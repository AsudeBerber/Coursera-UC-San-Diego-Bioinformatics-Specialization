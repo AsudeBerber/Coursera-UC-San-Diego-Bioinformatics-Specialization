{
 "cells": [
  {
   "cell_type": "code",
   "execution_count": 1,
   "id": "2c6191e0",
   "metadata": {
    "scrolled": true
   },
   "outputs": [
    {
     "ename": "NameError",
     "evalue": "name 'count_approx_pattern_matching' is not defined",
     "output_type": "error",
     "traceback": [
      "\u001b[0;31m---------------------------------------------------------------------------\u001b[0m",
      "\u001b[0;31mNameError\u001b[0m                                 Traceback (most recent call last)",
      "\u001b[0;32m<ipython-input-1-af80354a9212>\u001b[0m in \u001b[0;36m<module>\u001b[0;34m\u001b[0m\n\u001b[1;32m     20\u001b[0m     \u001b[0;32mreturn\u001b[0m \u001b[0mfreq_words\u001b[0m\u001b[0;34m[\u001b[0m\u001b[0mmax\u001b[0m\u001b[0;34m(\u001b[0m\u001b[0mfreq_words\u001b[0m\u001b[0;34m)\u001b[0m\u001b[0;34m]\u001b[0m\u001b[0;34m\u001b[0m\u001b[0;34m\u001b[0m\u001b[0m\n\u001b[1;32m     21\u001b[0m \u001b[0;34m\u001b[0m\u001b[0m\n\u001b[0;32m---> 22\u001b[0;31m \u001b[0mfreq_kmers\u001b[0m \u001b[0;34m=\u001b[0m \u001b[0mfrequent_words_mismatches\u001b[0m\u001b[0;34m(\u001b[0m\u001b[0mseq\u001b[0m\u001b[0;34m,\u001b[0m \u001b[0mk\u001b[0m\u001b[0;34m,\u001b[0m \u001b[0md\u001b[0m\u001b[0;34m)\u001b[0m\u001b[0;34m\u001b[0m\u001b[0;34m\u001b[0m\u001b[0m\n\u001b[0m\u001b[1;32m     23\u001b[0m \u001b[0mprint\u001b[0m\u001b[0;34m(\u001b[0m\u001b[0mfreq_kmers\u001b[0m\u001b[0;34m)\u001b[0m\u001b[0;34m\u001b[0m\u001b[0;34m\u001b[0m\u001b[0m\n",
      "\u001b[0;32m<ipython-input-1-af80354a9212>\u001b[0m in \u001b[0;36mfrequent_words_mismatches\u001b[0;34m(seq, k, d)\u001b[0m\n\u001b[1;32m     12\u001b[0m \u001b[0;34m\u001b[0m\u001b[0m\n\u001b[1;32m     13\u001b[0m     \u001b[0;32mfor\u001b[0m \u001b[0mpattern\u001b[0m \u001b[0;32min\u001b[0m \u001b[0mbases_comb\u001b[0m\u001b[0;34m:\u001b[0m\u001b[0;34m\u001b[0m\u001b[0;34m\u001b[0m\u001b[0m\n\u001b[0;32m---> 14\u001b[0;31m         \u001b[0mcount\u001b[0m \u001b[0;34m=\u001b[0m \u001b[0mcount_approx_pattern_matching\u001b[0m\u001b[0;34m(\u001b[0m\u001b[0mpattern\u001b[0m\u001b[0;34m,\u001b[0m \u001b[0mseq\u001b[0m\u001b[0;34m,\u001b[0m \u001b[0md\u001b[0m\u001b[0;34m)\u001b[0m\u001b[0;34m\u001b[0m\u001b[0;34m\u001b[0m\u001b[0m\n\u001b[0m\u001b[1;32m     15\u001b[0m         \u001b[0;32mif\u001b[0m \u001b[0mcount\u001b[0m \u001b[0;32mnot\u001b[0m \u001b[0;32min\u001b[0m \u001b[0mfreq_words\u001b[0m\u001b[0;34m:\u001b[0m\u001b[0;34m\u001b[0m\u001b[0;34m\u001b[0m\u001b[0m\n\u001b[1;32m     16\u001b[0m             \u001b[0mfreq_words\u001b[0m\u001b[0;34m[\u001b[0m\u001b[0mcount\u001b[0m\u001b[0;34m]\u001b[0m \u001b[0;34m=\u001b[0m \u001b[0;34m[\u001b[0m\u001b[0mpattern\u001b[0m\u001b[0;34m]\u001b[0m\u001b[0;34m\u001b[0m\u001b[0;34m\u001b[0m\u001b[0m\n",
      "\u001b[0;31mNameError\u001b[0m: name 'count_approx_pattern_matching' is not defined"
     ]
    }
   ],
   "source": [
    "#solve mismatches problem \n",
    "\n",
    "seq = \"ACATCCCTTTCCCTTTACATCTTACCCACATCCCCCCCCCCCCCTTAACATCCCCTTAACATCTTACCTCCTTACTTACCTCACATTTTCCTCCCTCCCCCCCCCCTTTCCCCCTCCTTACTTACTTATTTCCTCCCCCCTCCCCTTTTTTACATCCTCCCCCTTACCTCCTTATTTCCTCACATCCCTTTCCCCCCACATCCTCCCTCTTTCCCTTTCCTCCTTATTTCCCCCTCTTTACATTTTTTTCCCCTTACCCCTTACTTACCCACATCCCACATTTTCCCTTTTTTCCCCTTACCTCCTTACCTCCCCCTTACTTACTTACCTCTTTCTTACTTATTTCTTATTTCCTCTTTCCTCACATCCCCCCTTTTTTCCTCCTTA\"\n",
    "k = 6\n",
    "d = 3\n",
    "\n",
    "def frequent_words_mismatches(seq, k, d):\n",
    "    from itertools import product\n",
    "    bases = ['A', 'C', 'G', 'T']\n",
    "    bases_comb = [''.join(base) for base in product(bases, repeat = k)]\n",
    "    freq_words = {}\n",
    "\n",
    "    for pattern in bases_comb:\n",
    "        count = count_approx_pattern_matching(pattern, seq, d)\n",
    "        if count not in freq_words:\n",
    "            freq_words[count] = [pattern]\n",
    "        else:\n",
    "            freq_words[count].append(pattern)\n",
    "\n",
    "    return freq_words[max(freq_words)]\n",
    "\n",
    "freq_kmers = frequent_words_mismatches(seq, k, d)\n",
    "print(freq_kmers)"
   ]
  },
  {
   "cell_type": "code",
   "execution_count": 2,
   "id": "59bade01",
   "metadata": {
    "scrolled": true
   },
   "outputs": [
    {
     "ename": "NameError",
     "evalue": "name 'freq_words' is not defined",
     "output_type": "error",
     "traceback": [
      "\u001b[0;31m---------------------------------------------------------------------------\u001b[0m",
      "\u001b[0;31mNameError\u001b[0m                                 Traceback (most recent call last)",
      "\u001b[0;32m<ipython-input-2-fd9131b57eef>\u001b[0m in \u001b[0;36m<module>\u001b[0;34m\u001b[0m\n\u001b[0;32m----> 1\u001b[0;31m \u001b[0mprint\u001b[0m\u001b[0;34m(\u001b[0m\u001b[0mfreq_words\u001b[0m\u001b[0;34m)\u001b[0m\u001b[0;34m\u001b[0m\u001b[0;34m\u001b[0m\u001b[0m\n\u001b[0m",
      "\u001b[0;31mNameError\u001b[0m: name 'freq_words' is not defined"
     ]
    }
   ],
   "source": [
    "print(freq_words)"
   ]
  },
  {
   "cell_type": "code",
   "execution_count": 2,
   "id": "e61cdf9f",
   "metadata": {
    "scrolled": true
   },
   "outputs": [],
   "source": [
    "\n",
    "import itertools\n",
    "import time\n",
    "from collections import defaultdict\n",
    "\n",
    "Genome = \"AACCAGCCGATGGATGCAGAGCCAACCACTAGATGAACCGATGGATGCAGAGCCACTAGATGAGCCCAGAACCACTAACTAGATGCAGCAGGATGAGCCGATGGATGCAGAACCAGCCGATGCAGCAGCAGGATGACTAGATGGATGACTACAGAACCACTAGATGGATGAACCAACCCAGAACCAACCCAGGATGCAGACTAAACCGATGGATGAACCACTAGATGAACCGATGAACCACTAACTAGATGCAGAGCCAACCCAGGATGACTAACTAAGCCGATGCAGACTAAACCAGCCAGCCAACCACTAACTAAACCCAGAGCCACTAGATGCAGAGCCCAGAGCCACTAGATGACTAACTAACTAAACCAGCCACTAAGCCAGCCCAGACTA\"\n",
    "k = 6\n",
    "d = 3\n",
    "\n",
    "\n",
    "def FrequentWordsWithMismatches(Genome, k, d):\n",
    "    start = time.process_time()\n",
    "    aprox_frq_words = []\n",
    "    frequencies = defaultdict(lambda: 0)\n",
    "    # all existent kmers with d mismatches of current kmer in genome\n",
    "    for index in range(len(Genome) - k + 1):\n",
    "        curr_kmer_and_neighbors = PermuteMotifDistanceTimes(Genome[index : index + k], d)\n",
    "        for kmer in curr_kmer_and_neighbors:\n",
    "            frequencies[kmer] += 1 \n",
    "\n",
    "    for kmer in frequencies:\n",
    "        if frequencies[kmer] == max(frequencies.values()):\n",
    "            aprox_frq_words.append(kmer)\n",
    "    end = time.process_time()\n",
    "    print(\"Time:\", end - start)\n",
    "    print(aprox_frq_words)\n",
    "    return aprox_frq_words\n",
    "\n",
    "\n",
    "def PermuteMotifOnce(motif, alphabet={\"A\", \"C\", \"G\", \"T\"}):\n",
    "    \"\"\"\n",
    "    Gets all strings within hamming distance 1 of motif and returns it as a\n",
    "    list.\n",
    "    \"\"\"\n",
    "\n",
    "    return list(set(itertools.chain.from_iterable([[\n",
    "        motif[:pos] + nucleotide + motif[pos + 1:] for\n",
    "        nucleotide in alphabet] for\n",
    "        pos in range(len(motif))])))\n",
    "\n",
    "\n",
    "def PermuteMotifDistanceTimes(motif, d):\n",
    "    workingSet = {motif}\n",
    "    for _ in range(d):\n",
    "        workingSet = set(itertools.chain.from_iterable(map(PermuteMotifOnce, workingSet)))\n",
    "    return list(workingSet)\n"
   ]
  },
  {
   "cell_type": "code",
   "execution_count": 3,
   "id": "2b36c418",
   "metadata": {},
   "outputs": [
    {
     "ename": "NameError",
     "evalue": "name 'aprox_frq_words' is not defined",
     "output_type": "error",
     "traceback": [
      "\u001b[0;31m---------------------------------------------------------------------------\u001b[0m",
      "\u001b[0;31mNameError\u001b[0m                                 Traceback (most recent call last)",
      "\u001b[0;32m<ipython-input-3-0cd4fb8793fa>\u001b[0m in \u001b[0;36m<module>\u001b[0;34m\u001b[0m\n\u001b[0;32m----> 1\u001b[0;31m \u001b[0mprint\u001b[0m\u001b[0;34m(\u001b[0m\u001b[0maprox_frq_words\u001b[0m\u001b[0;34m)\u001b[0m\u001b[0;34m\u001b[0m\u001b[0;34m\u001b[0m\u001b[0m\n\u001b[0m",
      "\u001b[0;31mNameError\u001b[0m: name 'aprox_frq_words' is not defined"
     ]
    }
   ],
   "source": [
    "print(aprox_frq_words)"
   ]
  },
  {
   "cell_type": "code",
   "execution_count": null,
   "id": "ab082fe0",
   "metadata": {
    "scrolled": false
   },
   "outputs": [],
   "source": [
    "def mismatches_and_rc(text,k,d):\n",
    "    frequencyarray={}\n",
    "    rev_text=rev_comp(text)\n",
    "    for i in range(0,4**k):\n",
    "        frequencyarray[i]=0\n",
    "    for i in frequencyarray:\n",
    "        count,r_count=0,0\n",
    "        count=PatternMatching(text,NumberToPattern(i,k),d)\n",
    "        r_count=PatternMatching(rev_text,NumberToPattern(i,k),d)\n",
    "        frequencyarray[i]=count+r_count\n",
    "    return frequencyarray\n",
    "            \n",
    "        \n",
    "def PatternMatching(text,pat,d):\n",
    "    count=0\n",
    "    for i in range(0,len(text)):\n",
    "        p=text[i:i+len(pat)]\n",
    "        if len(p)!= len(pat): break\n",
    "        if hammingdistance(p,pat)<=d:\n",
    "            count=count+1\n",
    "    return count\n",
    "\n",
    "def PatternToNumber(pattern):\n",
    "    if len(pattern)==0: return\n",
    "    SymbolToNumber = {'A':0,'C':1,'G':2,'T':3}\n",
    "    if len(pattern)==1: return SymbolToNumber[pattern]\n",
    "    n=len(pattern)\n",
    "    symbol=pattern[n-1]\n",
    "    prefix=pattern[:n-1]\n",
    "    return (4*PatternToNumber(prefix)+SymbolToNumber[symbol])\n",
    "\n",
    "def NumberToPattern(index,k):\n",
    "    NumberToSymbol = {0:'A',1:'C',2:'G',3:'T'}\n",
    "    if k==1: return NumberToSymbol[index]\n",
    "    prefix_index=index//4\n",
    "    r=index%4\n",
    "    symbol=NumberToSymbol[r]\n",
    "    return NumberToPattern(prefix_index,k-1)+symbol\n",
    "\n",
    "def hammingdistance(p,q):\n",
    "    count=0\n",
    "    if len(p)!= len(q):\n",
    "        print(\"The two sequences vary in lenghts\")\n",
    "        return\n",
    "    for i in range(0,len(p)):\n",
    "        if p[i]!=q[i]:\n",
    "            count=count+1\n",
    "    return count\n",
    "\n",
    "def rev_comp(pattern):\n",
    "    rpattern=''\n",
    "    a=[]\n",
    "    for i in pattern:\n",
    "        if i=='A':\n",
    "            a.append('T')\n",
    "        if i=='T':\n",
    "            a.append('A')\n",
    "        if i=='C':\n",
    "            a.append('G')\n",
    "        if i=='G':\n",
    "            a.append('C')\n",
    "    rpattern =rpattern.join(a)\n",
    "    return(rpattern[::-1])\n",
    "\n",
    "\n",
    "text=input('TACTGTGACAATACAATGACTGTGATGATGAATTATGACTGATTGACTGTGACAACAACTGATTAATCTGCTGATCAAATCAAATTAATATTACTGTATACTGCTGTGAATTGACTGCAACAAATTAATTGATGATACTGATTGATATACAACTGATATCAAATCTGCAATGATGATGATAATTATAATCAACTGATCAATGA')\n",
    "k=int(input('6'))\n",
    "d=int(input('3'))\n",
    "approx_kmers= mismatches_and_rc(text,k,d)\n",
    "for a in approx_kmers:\n",
    "    if approx_kmers[a]== max(approx_kmers.values()):\n",
    "        print(NumberToPattern(a,k),end=' ')"
   ]
  },
  {
   "cell_type": "code",
   "execution_count": 1,
   "id": "d68b58c9",
   "metadata": {
    "scrolled": true
   },
   "outputs": [
    {
     "name": "stdout",
     "output_type": "stream",
     "text": [
      "The Hamming distance between the two sequences is: 43\n"
     ]
    }
   ],
   "source": [
    "p = \"CTTGAAGTGGACCTCTAGTTCCTCTACAAAGAACAGGTTGACCTGTCGCGAAG\"\n",
    "q = \"ATGCCTTACCTAGATGCAATGACGGACGTATTCCTTTTGCCTCAACGGCTCCT\"\n",
    "\n",
    "def hammingdistance(p,q):\n",
    "    count=0\n",
    "    if len(p)!= len(q):\n",
    "        print(\"The two sequences vary in lenghts\")\n",
    "        return\n",
    "    for i in range(0,len(p)):\n",
    "        if p[i]!=q[i]:\n",
    "            count=count+1\n",
    "    return count\n",
    "\n",
    "distance = hammingdistance(p, q)\n",
    "print(\"The Hamming distance between the two sequences is:\", distance)\n",
    "\n"
   ]
  },
  {
   "cell_type": "code",
   "execution_count": 2,
   "id": "54558e95",
   "metadata": {},
   "outputs": [
    {
     "name": "stdout",
     "output_type": "stream",
     "text": [
      "The maximum skew value is: 1\n",
      "The value of i for which the skew attains its maximum value is: 28\n"
     ]
    }
   ],
   "source": [
    "#Identify the value of i for which Skewi (GCATACACTTCCCAGTAGGTACTG) attains a maximum value.\n",
    "\n",
    "sequence = \"CATTCCAGTACTTCATGATGGCGTGAAGA\"\n",
    "\n",
    "skew = 0\n",
    "skew_list = [0]\n",
    "\n",
    "# Calculate the skew for each position in the sequence\n",
    "for i in range(len(sequence)):\n",
    "    if sequence[i] == \"C\":\n",
    "        skew = skew - 1\n",
    "    elif sequence[i] == \"G\":\n",
    "        skew = skew + 1\n",
    "    skew_list.append(skew)\n",
    "\n",
    "# Find the maximum skew value and its index\n",
    "max_skew = max(skew_list)\n",
    "max_index = skew_list.index(max_skew)\n",
    "\n",
    "print(\"The maximum skew value is:\", max_skew)\n",
    "print(\"The value of i for which the skew attains its maximum value is:\", max_index)\n",
    "\n"
   ]
  },
  {
   "cell_type": "code",
   "execution_count": 3,
   "id": "b7192b16",
   "metadata": {
    "scrolled": true
   },
   "outputs": [
    {
     "name": "stdout",
     "output_type": "stream",
     "text": [
      "The number of occurrences of the k-mer TGT in the DNA sequence CGTGACAGTGTATGGGCATCTTT is: 1\n"
     ]
    }
   ],
   "source": [
    "#Compute Count1(CGTGACAGTGTATGGGCATCTTT, TGT).\n",
    "\n",
    "\n",
    "def pattern_count(Text, Pattern):\n",
    "    count = 0\n",
    "    k = len(Pattern)\n",
    "    for i in range(len(Text) - k + 1):\n",
    "        if Text[i:i+k] == Pattern:\n",
    "            count += 1\n",
    "    return count\n",
    "\n",
    "\n",
    "Text = \"CGTGACAGTGTATGGGCATCTTT\"\n",
    "Pattern = \"TGT\"\n",
    "\n",
    "count = pattern_count(Text, Pattern)\n",
    "\n",
    "print(\"The number of occurrences of the k-mer\", Pattern, \"in the DNA sequence\", Text, \"is:\", count)\n",
    "\n",
    "#The number of occurrences of the k-mer TGT in the DNA sequence CGTGACAGTGTATGGGCATCTTT is: 2\n"
   ]
  },
  {
   "cell_type": "code",
   "execution_count": 4,
   "id": "0707de66",
   "metadata": {},
   "outputs": [
    {
     "name": "stdout",
     "output_type": "stream",
     "text": [
      "Count of pattern 'TGT' in text 'CGTGACAGTGTATGGGCATCTTT' is: 1\n"
     ]
    }
   ],
   "source": [
    "def pattern_count(text, pattern):\n",
    "    count = 0\n",
    "    for i in range(len(text) - len(pattern) + 1):\n",
    "        if text[i:i+len(pattern)] == pattern:\n",
    "            count += 1\n",
    "    return count\n",
    "\n",
    "text = \"CGTGACAGTGTATGGGCATCTTT\"\n",
    "pattern = \"TGT\"\n",
    "count = pattern_count(text, pattern)\n",
    "print(\"Count of pattern '{}' in text '{}' is: {}\".format(pattern, text, count))"
   ]
  },
  {
   "cell_type": "code",
   "execution_count": 5,
   "id": "b54aab8e",
   "metadata": {},
   "outputs": [
    {
     "name": "stdout",
     "output_type": "stream",
     "text": [
      "Number of 4-mers in the 3-neighborhood of ACGT: 175\n"
     ]
    }
   ],
   "source": [
    "#The d-neighborhood of the k-mer Pattern is the collection of all k-mers that are at most Hamming distance d from Pattern.\n",
    "\n",
    "#How many 4-mers are in the 3-neighborhood of Pattern = ACGT?\n",
    "\n",
    "#Note that the d-neighborhood of Pattern includes Pattern.\n",
    "\n",
    "p = \"CTTGAAGTGGACCTCTAGTTCCTCTACAAAGAACAGGTTGACCTGTCGCGAAG\"\n",
    "q = \"ATGCCTTACCTAGATGCAATGACGGACGTATTCCTTTTGCCTCAACGGCTCCT\"\n",
    "\n",
    "\n",
    "\n",
    "def hamming_distance(p, q):\n",
    "    \"\"\"\n",
    "    Calculates the Hamming distance between two strings of equal length.\n",
    "    \"\"\"\n",
    "    count=0\n",
    "    if len(p)!= len(q):\n",
    "        print(\"The two sequences vary in lenghts\")\n",
    "        return\n",
    "    for i in range(0,len(p)):\n",
    "        if p[i]!=q[i]:\n",
    "            count=count+1\n",
    "    return sum(1 for i in range(len(p)) if p[i] != q[i])\n",
    "\n",
    "def generate_kmers(k):\n",
    "    \"\"\"\n",
    "    Generates all possible k-mers consisting of the letters A, C, G, and T.\n",
    "    \"\"\"\n",
    "    if k == 1:\n",
    "        return ['A', 'C', 'G', 'T']\n",
    "    else:\n",
    "        suffixes = generate_kmers(k-1)\n",
    "        return [x + y for x in suffixes for y in ['A', 'C', 'G', 'T']]\n",
    "\n",
    "def neighbors(pattern, d):\n",
    "    \"\"\"\n",
    "    Finds all k-mers within a Hamming distance of d from the given pattern.\n",
    "    \"\"\"\n",
    "    if d == 0:\n",
    "        return {pattern}\n",
    "    if len(pattern) == 1:\n",
    "        return {'A', 'C', 'G', 'T'}\n",
    "    neighborhood = set()\n",
    "    suffix_neighbors = neighbors(pattern[1:], d)\n",
    "    for text in suffix_neighbors:\n",
    "        if hamming_distance(pattern[1:], text) < d:\n",
    "            for nucleotide in ['A', 'C', 'G', 'T']:\n",
    "                neighborhood.add(nucleotide + text)\n",
    "        else:\n",
    "            neighborhood.add(pattern[0] + text)\n",
    "    return neighborhood\n",
    "\n",
    "# Find the 3-neighborhood of the 4-mer ACGT\n",
    "pattern = 'ACGT'\n",
    "d = 3\n",
    "kmers = generate_kmers(len(pattern))\n",
    "neighborhood = set()\n",
    "for kmer in kmers:\n",
    "    if hamming_distance(pattern, kmer) <= d:\n",
    "        neighborhood.add(kmer)\n",
    "\n",
    "# Print the number of 4-mers in the 3-neighborhood of ACGT\n",
    "print(\"Number of 4-mers in the 3-neighborhood of ACGT:\", len(neighborhood))\n"
   ]
  },
  {
   "cell_type": "code",
   "execution_count": 23,
   "id": "2005307a",
   "metadata": {},
   "outputs": [
    {
     "ename": "NameError",
     "evalue": "name 'count_approx_pattern_matching' is not defined",
     "output_type": "error",
     "traceback": [
      "\u001b[0;31m---------------------------------------------------------------------------\u001b[0m",
      "\u001b[0;31mNameError\u001b[0m                                 Traceback (most recent call last)",
      "\u001b[0;32m<ipython-input-23-92ba563558c0>\u001b[0m in \u001b[0;36m<module>\u001b[0;34m\u001b[0m\n\u001b[1;32m     18\u001b[0m \u001b[0md\u001b[0m \u001b[0;34m=\u001b[0m \u001b[0;36m2\u001b[0m\u001b[0;34m\u001b[0m\u001b[0;34m\u001b[0m\u001b[0m\n\u001b[1;32m     19\u001b[0m \u001b[0;34m\u001b[0m\u001b[0m\n\u001b[0;32m---> 20\u001b[0;31m \u001b[0mfreq_kmers\u001b[0m \u001b[0;34m=\u001b[0m \u001b[0mfrequent_words_mismatches\u001b[0m\u001b[0;34m(\u001b[0m\u001b[0mseq\u001b[0m\u001b[0;34m,\u001b[0m \u001b[0mk\u001b[0m\u001b[0;34m,\u001b[0m \u001b[0md\u001b[0m\u001b[0;34m)\u001b[0m\u001b[0;34m\u001b[0m\u001b[0;34m\u001b[0m\u001b[0m\n\u001b[0m\u001b[1;32m     21\u001b[0m \u001b[0mprint\u001b[0m\u001b[0;34m(\u001b[0m\u001b[0mfreq_kmers\u001b[0m\u001b[0;34m)\u001b[0m\u001b[0;34m\u001b[0m\u001b[0;34m\u001b[0m\u001b[0m\n",
      "\u001b[0;32m<ipython-input-23-92ba563558c0>\u001b[0m in \u001b[0;36mfrequent_words_mismatches\u001b[0;34m(seq, k, d)\u001b[0m\n\u001b[1;32m      6\u001b[0m \u001b[0;34m\u001b[0m\u001b[0m\n\u001b[1;32m      7\u001b[0m     \u001b[0;32mfor\u001b[0m \u001b[0mpattern\u001b[0m \u001b[0;32min\u001b[0m \u001b[0mbases_comb\u001b[0m\u001b[0;34m:\u001b[0m\u001b[0;34m\u001b[0m\u001b[0;34m\u001b[0m\u001b[0m\n\u001b[0;32m----> 8\u001b[0;31m         \u001b[0mcount\u001b[0m \u001b[0;34m=\u001b[0m \u001b[0mcount_approx_pattern_matching\u001b[0m\u001b[0;34m(\u001b[0m\u001b[0mseq\u001b[0m\u001b[0;34m,\u001b[0m \u001b[0mk\u001b[0m\u001b[0;34m,\u001b[0m \u001b[0md\u001b[0m\u001b[0;34m)\u001b[0m\u001b[0;34m\u001b[0m\u001b[0;34m\u001b[0m\u001b[0m\n\u001b[0m\u001b[1;32m      9\u001b[0m         \u001b[0;32mif\u001b[0m \u001b[0mcount\u001b[0m \u001b[0;32mnot\u001b[0m \u001b[0;32min\u001b[0m \u001b[0mfreq_words\u001b[0m\u001b[0;34m:\u001b[0m\u001b[0;34m\u001b[0m\u001b[0;34m\u001b[0m\u001b[0m\n\u001b[1;32m     10\u001b[0m             \u001b[0mfreq_words\u001b[0m\u001b[0;34m[\u001b[0m\u001b[0mcount\u001b[0m\u001b[0;34m]\u001b[0m \u001b[0;34m=\u001b[0m \u001b[0;34m[\u001b[0m\u001b[0mpattern\u001b[0m\u001b[0;34m]\u001b[0m\u001b[0;34m\u001b[0m\u001b[0;34m\u001b[0m\u001b[0m\n",
      "\u001b[0;31mNameError\u001b[0m: name 'count_approx_pattern_matching' is not defined"
     ]
    }
   ],
   "source": [
    "def frequent_words_mismatches(seq, k, d):\n",
    "    from itertools import product\n",
    "    bases = ['A', 'C', 'G', 'T']\n",
    "    bases_comb = [''.join(base) for base in product(bases, repeat = k)]\n",
    "    freq_words = {}\n",
    "\n",
    "    for pattern in bases_comb:\n",
    "        count = count_approx_pattern_matching(seq, k, d)\n",
    "        if count not in freq_words:\n",
    "            freq_words[count] = [pattern]\n",
    "        else:\n",
    "            freq_words[count].append(pattern)\n",
    "\n",
    "    return freq_words[max(freq_words)]\n",
    "\n",
    "seq = 'TGCATGTATCATCATCGGTTGGGGTATGTATGTATCTGGTGGGGTATCGGTTGGATCATGTTGCTGGTGCTGGATCATCTGCGGTGGTTGCGGTGGTTGGTGGGGTTGCATCGGTGGTATCATCGGTGGTATGTTGGATGTATCTGGATGTGGTATCGGTGGTTGCGGTTGGATGTTGGTGGATCATGTTGCTGCGGTATCTGCTGCTGCGGTTGGGGTTGGTGCATGTTGGATCTGCTGCATGTTGGATGTATGTGGTGGTTGCATGTGGTATCATGTATGTTGCTGGATCTGCATGTATCATCTGCATGTATCTGGATGTGGTATGTTGGATCATCATCTGGGGTTGCGGTATCATCATGT'\n",
    "k = 7\n",
    "d = 2\n",
    "\n",
    "freq_kmers = frequent_words_mismatches(seq, k, d)\n",
    "print(freq_kmers)"
   ]
  },
  {
   "cell_type": "code",
   "execution_count": 2,
   "id": "a2179a64",
   "metadata": {},
   "outputs": [
    {
     "name": "stdout",
     "output_type": "stream",
     "text": [
      "AATCCTA\n"
     ]
    }
   ],
   "source": [
    "# median string \n",
    "\n",
    "def MedianString(k, Dna):\n",
    "    distance = float('inf')\n",
    "    median = ''\n",
    "    for i in range(4**k):\n",
    "        pattern = NumberToPattern(i, k)\n",
    "        curr_distance = d(pattern, Dna)\n",
    "        if curr_distance < distance:\n",
    "            distance = curr_distance\n",
    "            median = pattern\n",
    "    return median\n",
    "\n",
    "def d(Pattern, Dna):\n",
    "    distance = 0\n",
    "    k = len(Pattern)\n",
    "    for string in Dna:\n",
    "        hamming_distance = float('inf')\n",
    "        for i in range(len(string) - k + 1):\n",
    "            pattern = string[i:i+k]\n",
    "            curr_hamming_distance = HammingDistance(pattern, Pattern)\n",
    "            if curr_hamming_distance < hamming_distance:\n",
    "                hamming_distance = curr_hamming_distance\n",
    "        distance += hamming_distance\n",
    "    return distance\n",
    "\n",
    "def NumberToPattern(index, k):\n",
    "    if k == 1:\n",
    "        return NumberToSymbol(index)\n",
    "    prefix_index = index // 4\n",
    "    r = index % 4\n",
    "    symbol = NumberToSymbol(r)\n",
    "    prefix_pattern = NumberToPattern(prefix_index, k - 1)\n",
    "    return prefix_pattern + symbol\n",
    "\n",
    "def NumberToSymbol(number):\n",
    "    if number == 0:\n",
    "        return 'A'\n",
    "    elif number == 1:\n",
    "        return 'C'\n",
    "    elif number == 2:\n",
    "        return 'G'\n",
    "    elif number == 3:\n",
    "        return 'T'\n",
    "\n",
    "def HammingDistance(p, q):\n",
    "    return sum([1 for i in range(len(p)) if p[i] != q[i]])\n",
    "\n",
    "# Example usage:\n",
    "k = 7\n",
    "Dna = ['CTCGATGAGTAGGAAAGTAGTTTCACTGGGCGAACCACCCCGGCGCTAATCCTAGTGCCC', 'GCAATCCTACCCGAGGCCACATATCAGTAGGAACTAGAACCACCACGGGTGGCTAGTTTC', 'GGTGTTGAACCACGGGGTTAGTTTCATCTATTGTAGGAATCGGCTTCAAATCCTACACAG']\n",
    "print(MedianString(k, Dna))"
   ]
  },
  {
   "cell_type": "code",
   "execution_count": null,
   "id": "accea86a",
   "metadata": {},
   "outputs": [],
   "source": [
    "def approx(kmer, substring, k, n):\n",
    "    count = 0\n",
    "    for i in range(k):\n",
    "        if substring[i] != kmer[i]:\n",
    "            count += 1\n",
    "        if count > n:\n",
    "            return False\n",
    "    return True\n",
    "\n",
    "sequence = input(\"AACCAGCCGATGGATGCAGAGCCAACCACTAGATGAACCGATGGATGCAGAGCCACTAGATGAGCCCAGAACCACTAACTAGATGCAGCAGGATGAGCCGATGGATGCAGAACCAGCCGATGCAGCAGCAGGATGACTAGATGGATGACTACAGAACCACTAGATGGATGAACCAACCCAGAACCAACCCAGGATGCAGACTAAACCGATGGATGAACCACTAGATGAACCGATGAACCACTAACTAGATGCAGAGCCAACCCAGGATGACTAACTAAGCCGATGCAGACTAAACCAGCCAGCCAACCACTAACTAAACCCAGAGCCACTAGATGCAGAGCCCAGAGCCACTAGATGACTAACTAACTAAACCAGCCACTAAGCCAGCCCAGACTA\")\n",
    "k = int(input(\"6\"))\n",
    "n = int(input(\"3\"))\n",
    "\n",
    "DNA = str(sequence.upper())\n",
    "\n",
    "counts = {}\n",
    "\n",
    "for i in range(0, len(DNA) - k + 1):\n",
    "    kmer = DNA[i:i + k]\n",
    "    if kmer in counts:\n",
    "        counts[kmer] += 1\n",
    "    else:\n",
    "        counts[kmer] = 1\n",
    "\n",
    "updateCounts = {}\n",
    "\n",
    "for a in counts:\n",
    "    c = 0\n",
    "    for b in counts:\n",
    "        if approx(a, b, k, n):\n",
    "            c += counts.get(b)\n",
    "    updateCounts[a] = c\n",
    "\n",
    "print(updateCounts)\n",
    "\n",
    "frequent = max(updateCounts.values())\n",
    "\n",
    "ans = []\n",
    "for k in updateCounts:\n",
    "    if updateCounts[k] == frequent:\n",
    "        ans.append(k)\n",
    "\n",
    "output = ' '.join(ans)\n",
    "print(\" \")\n",
    "print(output)"
   ]
  },
  {
   "cell_type": "code",
   "execution_count": null,
   "id": "c1e79148",
   "metadata": {},
   "outputs": [],
   "source": [
    "MedianString(Dna, k)\n",
    "    distance ← ∞\n",
    "    for each k-mer Pattern from AA…AA to TT…TT\n",
    "        if distance > d(Pattern, Dna)\n",
    "             distance ← d(Pattern, Dna)\n",
    "             Median ← Pattern\n",
    "    return Median"
   ]
  },
  {
   "cell_type": "code",
   "execution_count": 7,
   "id": "0a078a07",
   "metadata": {},
   "outputs": [
    {
     "ename": "UnboundLocalError",
     "evalue": "local variable 'pattern' referenced before assignment",
     "output_type": "error",
     "traceback": [
      "\u001b[0;31m---------------------------------------------------------------------------\u001b[0m",
      "\u001b[0;31mUnboundLocalError\u001b[0m                         Traceback (most recent call last)",
      "\u001b[0;32m<ipython-input-7-17a081c89453>\u001b[0m in \u001b[0;36m<module>\u001b[0;34m\u001b[0m\n\u001b[1;32m     33\u001b[0m \u001b[0mdna\u001b[0m \u001b[0;34m=\u001b[0m \u001b[0;34m[\u001b[0m\u001b[0;34m'TGATGATAACGTGACGGGACTCAGCGGCGATGAAGGATGAGT'\u001b[0m\u001b[0;34m,\u001b[0m \u001b[0;34m'CAGCGACAGACAATTTCAATAATATCCGCGGTAAGCGGCGTA'\u001b[0m\u001b[0;34m,\u001b[0m \u001b[0;34m'TGCAGAGGTTGGTAACGCCGGCGACTCGGAGAGCTTTTCGCT'\u001b[0m\u001b[0;34m,\u001b[0m \u001b[0;34m'TTTGTCATGAACTCAGATACCATAGAGCACCGGCGAGACTCA'\u001b[0m\u001b[0;34m,\u001b[0m \u001b[0;34m'ACTGGGACTTCACATTAGGTTGAACCGCGAGCCAGGTGGGTG'\u001b[0m\u001b[0;34m,\u001b[0m \u001b[0;34m'TTGCGGACGGGATACTCAATAACTAAGGTAGTTCAGCTGCGA'\u001b[0m\u001b[0;34m,\u001b[0m \u001b[0;34m'TGGGAGGACACACATTTTCTTACCTCTTCCCAGCGAGATGGC'\u001b[0m\u001b[0;34m,\u001b[0m \u001b[0;34m'GAAAAAACCTATAAAGTCCACTCTTTGCGGCGGCGAGCCATA'\u001b[0m\u001b[0;34m,\u001b[0m \u001b[0;34m'CCACGTCCGTTACTCCGTCGCCGTCAGCGATAATGGGATGAG'\u001b[0m\u001b[0;34m,\u001b[0m \u001b[0;34m'CCAAAGCTGCGAAATAACCATACTCTGCTCAGGAGCCCGATG'\u001b[0m\u001b[0;34m]\u001b[0m\u001b[0;34m\u001b[0m\u001b[0;34m\u001b[0m\u001b[0m\n\u001b[1;32m     34\u001b[0m \u001b[0mk\u001b[0m \u001b[0;34m=\u001b[0m \u001b[0;36m6\u001b[0m\u001b[0;34m\u001b[0m\u001b[0;34m\u001b[0m\u001b[0m\n\u001b[0;32m---> 35\u001b[0;31m \u001b[0mmedian\u001b[0m \u001b[0;34m=\u001b[0m \u001b[0mmedian_string\u001b[0m\u001b[0;34m(\u001b[0m\u001b[0mdna\u001b[0m\u001b[0;34m,\u001b[0m \u001b[0mk\u001b[0m\u001b[0;34m)\u001b[0m\u001b[0;34m\u001b[0m\u001b[0;34m\u001b[0m\u001b[0m\n\u001b[0m\u001b[1;32m     36\u001b[0m \u001b[0mprint\u001b[0m\u001b[0;34m(\u001b[0m\u001b[0;34m\"The median string is:\"\u001b[0m\u001b[0;34m,\u001b[0m \u001b[0mmedian\u001b[0m\u001b[0;34m)\u001b[0m\u001b[0;34m\u001b[0m\u001b[0;34m\u001b[0m\u001b[0m\n",
      "\u001b[0;32m<ipython-input-7-17a081c89453>\u001b[0m in \u001b[0;36mmedian_string\u001b[0;34m(dna, k)\u001b[0m\n\u001b[1;32m     15\u001b[0m     \u001b[0mdistance\u001b[0m \u001b[0;34m=\u001b[0m \u001b[0mfloat\u001b[0m\u001b[0;34m(\u001b[0m\u001b[0;34m'inf'\u001b[0m\u001b[0;34m)\u001b[0m\u001b[0;34m\u001b[0m\u001b[0;34m\u001b[0m\u001b[0m\n\u001b[1;32m     16\u001b[0m     \u001b[0mmedian\u001b[0m \u001b[0;34m=\u001b[0m \u001b[0;34m''\u001b[0m\u001b[0;34m\u001b[0m\u001b[0;34m\u001b[0m\u001b[0m\n\u001b[0;32m---> 17\u001b[0;31m     \u001b[0;32mfor\u001b[0m \u001b[0mpattern\u001b[0m \u001b[0;32min\u001b[0m \u001b[0;34m[\u001b[0m\u001b[0;34m''\u001b[0m\u001b[0;34m.\u001b[0m\u001b[0mjoin\u001b[0m\u001b[0;34m(\u001b[0m\u001b[0mp\u001b[0m\u001b[0;34m)\u001b[0m \u001b[0;32mfor\u001b[0m \u001b[0mp\u001b[0m \u001b[0;32min\u001b[0m \u001b[0mpattern\u001b[0m\u001b[0;34m(\u001b[0m\u001b[0;34m'ACGT'\u001b[0m\u001b[0;34m,\u001b[0m \u001b[0mrepeat\u001b[0m\u001b[0;34m=\u001b[0m\u001b[0mk\u001b[0m\u001b[0;34m)\u001b[0m\u001b[0;34m]\u001b[0m\u001b[0;34m:\u001b[0m\u001b[0;34m\u001b[0m\u001b[0;34m\u001b[0m\u001b[0m\n\u001b[0m\u001b[1;32m     18\u001b[0m         \u001b[0mcurr_distance\u001b[0m \u001b[0;34m=\u001b[0m \u001b[0;36m0\u001b[0m\u001b[0;34m\u001b[0m\u001b[0;34m\u001b[0m\u001b[0m\n\u001b[1;32m     19\u001b[0m         \u001b[0;32mfor\u001b[0m \u001b[0mseq\u001b[0m \u001b[0;32min\u001b[0m \u001b[0mdna\u001b[0m\u001b[0;34m:\u001b[0m\u001b[0;34m\u001b[0m\u001b[0;34m\u001b[0m\u001b[0m\n",
      "\u001b[0;31mUnboundLocalError\u001b[0m: local variable 'pattern' referenced before assignment"
     ]
    }
   ],
   "source": [
    "#this code is mistaken\n",
    "\n",
    "def hamming_distance(p, q):\n",
    "    \"\"\"\n",
    "    Computes the Hamming distance between two DNA sequences.\n",
    "    \"\"\"\n",
    "    count = 0\n",
    "    for i in range(len(p)):\n",
    "        if p[i] != q[i]:\n",
    "            count += 1\n",
    "    return count\n",
    "\n",
    "def median_string(dna, k):\n",
    "    \"\"\"\n",
    "    Finds a k-mer pattern that minimizes the sum of distances between the pattern and all k-mers in the DNA sequences.\n",
    "    \"\"\"\n",
    "    distance = float('inf')\n",
    "    median = ''\n",
    "    for pattern in [''.join(p) for p in product('ACGT', repeat=k)]:\n",
    "        curr_distance = 0\n",
    "        for seq in dna:\n",
    "            seq_distance = float('inf')\n",
    "            for i in range(len(seq) - k + 1):\n",
    "                kmer = seq[i:i+k]\n",
    "                kmer_distance = hamming_distance(pattern, kmer)\n",
    "                if kmer_distance < seq_distance:\n",
    "                    seq_distance = kmer_distance\n",
    "            curr_distance += seq_distance\n",
    "        if curr_distance < distance:\n",
    "            distance = curr_distance\n",
    "            median = pattern\n",
    "    return median\n",
    "\n",
    "# Example usage:\n",
    "dna = ['TGATGATAACGTGACGGGACTCAGCGGCGATGAAGGATGAGT', 'CAGCGACAGACAATTTCAATAATATCCGCGGTAAGCGGCGTA', 'TGCAGAGGTTGGTAACGCCGGCGACTCGGAGAGCTTTTCGCT', 'TTTGTCATGAACTCAGATACCATAGAGCACCGGCGAGACTCA', 'ACTGGGACTTCACATTAGGTTGAACCGCGAGCCAGGTGGGTG', 'TTGCGGACGGGATACTCAATAACTAAGGTAGTTCAGCTGCGA', 'TGGGAGGACACACATTTTCTTACCTCTTCCCAGCGAGATGGC', 'GAAAAAACCTATAAAGTCCACTCTTTGCGGCGGCGAGCCATA', 'CCACGTCCGTTACTCCGTCGCCGTCAGCGATAATGGGATGAG', 'CCAAAGCTGCGAAATAACCATACTCTGCTCAGGAGCCCGATG']\n",
    "k = 6\n",
    "median = median_string(dna, k)\n",
    "print(\"The median string is:\", median)\n"
   ]
  },
  {
   "cell_type": "code",
   "execution_count": 28,
   "id": "e450da52",
   "metadata": {},
   "outputs": [
    {
     "name": "stdout",
     "output_type": "stream",
     "text": [
      "AATCCTA\n"
     ]
    }
   ],
   "source": [
    "def MedianString(k, Dna):\n",
    "    distance = float('inf')\n",
    "    median = ''\n",
    "    for i in range(4**k):\n",
    "        pattern = NumberToPattern(i, k)\n",
    "        curr_distance = d(pattern, Dna)\n",
    "        if curr_distance < distance:\n",
    "            distance = curr_distance\n",
    "            median = pattern\n",
    "    return median\n",
    "\n",
    "def d(Pattern, Dna):\n",
    "    distance = 0\n",
    "    k = len(Pattern)\n",
    "    for string in Dna:\n",
    "        hamming_distance = float('inf')\n",
    "        for i in range(len(string) - k + 1):\n",
    "            pattern = string[i:i+k]\n",
    "            curr_hamming_distance = HammingDistance(pattern, Pattern)\n",
    "            if curr_hamming_distance < hamming_distance:\n",
    "                hamming_distance = curr_hamming_distance\n",
    "        distance += hamming_distance\n",
    "    return distance\n",
    "\n",
    "def NumberToPattern(index, k):\n",
    "    if k == 1:\n",
    "        return NumberToSymbol(index)\n",
    "    prefix_index = index // 4\n",
    "    r = index % 4\n",
    "    symbol = NumberToSymbol(r)\n",
    "    prefix_pattern = NumberToPattern(prefix_index, k - 1)\n",
    "    return prefix_pattern + symbol\n",
    "\n",
    "def NumberToSymbol(number):\n",
    "    if number == 0:\n",
    "        return 'A'\n",
    "    elif number == 1:\n",
    "        return 'C'\n",
    "    elif number == 2:\n",
    "        return 'G'\n",
    "    elif number == 3:\n",
    "        return 'T'\n",
    "\n",
    "def HammingDistance(p, q):\n",
    "    return sum([1 for i in range(len(p)) if p[i] != q[i]])\n",
    "\n",
    "# Example usage:\n",
    "k = 7\n",
    "Dna = ['CTCGATGAGTAGGAAAGTAGTTTCACTGGGCGAACCACCCCGGCGCTAATCCTAGTGCCC', 'GCAATCCTACCCGAGGCCACATATCAGTAGGAACTAGAACCACCACGGGTGGCTAGTTTC', 'GGTGTTGAACCACGGGGTTAGTTTCATCTATTGTAGGAATCGGCTTCAAATCCTACACAG']\n",
    "print(MedianString(k, Dna))"
   ]
  },
  {
   "cell_type": "code",
   "execution_count": 10,
   "id": "312c716f",
   "metadata": {},
   "outputs": [
    {
     "ename": "NameError",
     "evalue": "name 'ProfileMostProbableKmer' is not defined",
     "output_type": "error",
     "traceback": [
      "\u001b[0;31m---------------------------------------------------------------------------\u001b[0m",
      "\u001b[0;31mNameError\u001b[0m                                 Traceback (most recent call last)",
      "\u001b[0;32m<ipython-input-10-c87116e6ca0e>\u001b[0m in \u001b[0;36m<module>\u001b[0;34m\u001b[0m\n\u001b[1;32m     10\u001b[0m     \u001b[0mprof\u001b[0m \u001b[0;34m=\u001b[0m \u001b[0;34m[\u001b[0m\u001b[0mlist\u001b[0m\u001b[0;34m(\u001b[0m\u001b[0mmap\u001b[0m\u001b[0;34m(\u001b[0m\u001b[0mfloat\u001b[0m\u001b[0;34m,\u001b[0m \u001b[0mraw_profile\u001b[0m\u001b[0;34m[\u001b[0m\u001b[0mi\u001b[0m\u001b[0;34m]\u001b[0m\u001b[0;34m.\u001b[0m\u001b[0msplit\u001b[0m\u001b[0;34m(\u001b[0m\u001b[0;34m)\u001b[0m\u001b[0;34m)\u001b[0m\u001b[0;34m)\u001b[0m \u001b[0;32mfor\u001b[0m \u001b[0mi\u001b[0m \u001b[0;32min\u001b[0m \u001b[0mrange\u001b[0m\u001b[0;34m(\u001b[0m\u001b[0mlen\u001b[0m\u001b[0;34m(\u001b[0m\u001b[0mraw_profile\u001b[0m\u001b[0;34m)\u001b[0m\u001b[0;34m)\u001b[0m\u001b[0;34m]\u001b[0m\u001b[0;34m\u001b[0m\u001b[0;34m\u001b[0m\u001b[0m\n\u001b[1;32m     11\u001b[0m     \u001b[0mprof_dict\u001b[0m \u001b[0;34m=\u001b[0m \u001b[0mdict\u001b[0m\u001b[0;34m(\u001b[0m\u001b[0mzip\u001b[0m\u001b[0;34m(\u001b[0m\u001b[0mbases\u001b[0m\u001b[0;34m,\u001b[0m \u001b[0mprof\u001b[0m\u001b[0;34m)\u001b[0m\u001b[0;34m)\u001b[0m\u001b[0;34m\u001b[0m\u001b[0;34m\u001b[0m\u001b[0m\n\u001b[0;32m---> 12\u001b[0;31m \u001b[0mprint\u001b[0m\u001b[0;34m(\u001b[0m\u001b[0mProfileMostProbableKmer\u001b[0m\u001b[0;34m(\u001b[0m\u001b[0mText\u001b[0m\u001b[0;34m,\u001b[0m \u001b[0mk\u001b[0m\u001b[0;34m,\u001b[0m \u001b[0mprof\u001b[0m\u001b[0;34m)\u001b[0m\u001b[0;34m)\u001b[0m\u001b[0;34m\u001b[0m\u001b[0;34m\u001b[0m\u001b[0m\n\u001b[0m",
      "\u001b[0;31mNameError\u001b[0m: name 'ProfileMostProbableKmer' is not defined"
     ]
    }
   ],
   "source": [
    "filename = '/Users/asudeberber/Downloads/dataset_159_3.txt'\n",
    "with open(filename, \"r\") as dataset:\n",
    "    data = []\n",
    "    for line in dataset:\n",
    "        data.append(line.strip())\n",
    "    Text = data[0]\n",
    "    k = int(data[1])\n",
    "    raw_profile = data[2:]\n",
    "    bases = ['A', 'C', 'G', 'T']\n",
    "    prof = [list(map(float, raw_profile[i].split())) for i in range(len(raw_profile))]\n",
    "    prof_dict = dict(zip(bases, prof))\n",
    "print(ProfileMostProbableKmer(Text, k, prof))"
   ]
  },
  {
   "cell_type": "code",
   "execution_count": 4,
   "id": "74adeae5",
   "metadata": {},
   "outputs": [
    {
     "ename": "ValueError",
     "evalue": "max() arg is an empty sequence",
     "output_type": "error",
     "traceback": [
      "\u001b[0;31m---------------------------------------------------------------------------\u001b[0m",
      "\u001b[0;31mValueError\u001b[0m                                Traceback (most recent call last)",
      "\u001b[0;32m<ipython-input-4-b97f9cd220f3>\u001b[0m in \u001b[0;36m<module>\u001b[0;34m\u001b[0m\n\u001b[1;32m     29\u001b[0m     \u001b[0;32mreturn\u001b[0m \u001b[0mmost_prob_kmer\u001b[0m\u001b[0;34m[\u001b[0m\u001b[0;36m0\u001b[0m\u001b[0;34m]\u001b[0m\u001b[0;34m\u001b[0m\u001b[0;34m\u001b[0m\u001b[0m\n\u001b[1;32m     30\u001b[0m \u001b[0;34m\u001b[0m\u001b[0m\n\u001b[0;32m---> 31\u001b[0;31m \u001b[0mresult\u001b[0m \u001b[0;34m=\u001b[0m \u001b[0mProfileMostProbableKmer\u001b[0m\u001b[0;34m(\u001b[0m\u001b[0mtext\u001b[0m\u001b[0;34m,\u001b[0m \u001b[0mk\u001b[0m\u001b[0;34m,\u001b[0m \u001b[0mprofile\u001b[0m\u001b[0;34m)\u001b[0m\u001b[0;34m\u001b[0m\u001b[0;34m\u001b[0m\u001b[0m\n\u001b[0m\u001b[1;32m     32\u001b[0m \u001b[0mprint\u001b[0m\u001b[0;34m(\u001b[0m\u001b[0mresult\u001b[0m\u001b[0;34m)\u001b[0m\u001b[0;34m\u001b[0m\u001b[0;34m\u001b[0m\u001b[0m\n",
      "\u001b[0;32m<ipython-input-4-b97f9cd220f3>\u001b[0m in \u001b[0;36mProfileMostProbableKmer\u001b[0;34m(text, k, profile)\u001b[0m\n\u001b[1;32m     23\u001b[0m         \u001b[0mprobability\u001b[0m \u001b[0;34m=\u001b[0m \u001b[0mPr\u001b[0m\u001b[0;34m(\u001b[0m\u001b[0mk_mer\u001b[0m\u001b[0;34m,\u001b[0m \u001b[0mprofile\u001b[0m\u001b[0;34m)\u001b[0m\u001b[0;34m\u001b[0m\u001b[0;34m\u001b[0m\u001b[0m\n\u001b[1;32m     24\u001b[0m         \u001b[0mpr\u001b[0m\u001b[0;34m[\u001b[0m\u001b[0mk_mer\u001b[0m\u001b[0;34m]\u001b[0m \u001b[0;34m=\u001b[0m \u001b[0mprobability\u001b[0m\u001b[0;34m\u001b[0m\u001b[0;34m\u001b[0m\u001b[0m\n\u001b[0;32m---> 25\u001b[0;31m     \u001b[0mm\u001b[0m \u001b[0;34m=\u001b[0m \u001b[0mmax\u001b[0m\u001b[0;34m(\u001b[0m\u001b[0mpr\u001b[0m\u001b[0;34m.\u001b[0m\u001b[0mvalues\u001b[0m\u001b[0;34m(\u001b[0m\u001b[0;34m)\u001b[0m\u001b[0;34m)\u001b[0m\u001b[0;34m\u001b[0m\u001b[0;34m\u001b[0m\u001b[0m\n\u001b[0m\u001b[1;32m     26\u001b[0m     \u001b[0;32mfor\u001b[0m \u001b[0mkey\u001b[0m\u001b[0;34m,\u001b[0m \u001b[0mvalue\u001b[0m \u001b[0;32min\u001b[0m \u001b[0mpr\u001b[0m\u001b[0;34m.\u001b[0m\u001b[0mitems\u001b[0m\u001b[0;34m(\u001b[0m\u001b[0;34m)\u001b[0m\u001b[0;34m:\u001b[0m\u001b[0;34m\u001b[0m\u001b[0;34m\u001b[0m\u001b[0m\n\u001b[1;32m     27\u001b[0m         \u001b[0;32mif\u001b[0m \u001b[0mpr\u001b[0m\u001b[0;34m[\u001b[0m\u001b[0mkey\u001b[0m\u001b[0;34m]\u001b[0m \u001b[0;34m==\u001b[0m \u001b[0mm\u001b[0m\u001b[0;34m:\u001b[0m\u001b[0;34m\u001b[0m\u001b[0;34m\u001b[0m\u001b[0m\n",
      "\u001b[0;31mValueError\u001b[0m: max() arg is an empty sequence"
     ]
    }
   ],
   "source": [
    "text = \"AAGTTC\"\n",
    "profile = {\n",
    "    'A': [0.4, 0.3, 0.0, 0.1, 0.0, 0.9],\n",
    "    'C': [0.2, 0.3, 0.0, 0.4, 0.0, 0.1],\n",
    "    'G': [0.1, 0.3, 1.0, 0.1, 0.5, 0.0],\n",
    "    'T': [0.3, 0.1, 0.0, 0.4, 0.5, 0.0]\n",
    "}\n",
    "\n",
    "\n",
    "def Pr(text, Profile):\n",
    "    pro = 15\n",
    "    for i in range(len(text)):\n",
    "        pro = pro*Profile[text[i]][i]\n",
    "\n",
    "    return pro\n",
    "\n",
    "def ProfileMostProbableKmer(text, k, profile):\n",
    "    n = len(text)\n",
    "    pr = {}\n",
    "    most_prob_kmer = []\n",
    "    for i in range(n-k+1):\n",
    "        k_mer = text[i:i+k]\n",
    "        probability = Pr(k_mer, profile)\n",
    "        pr[k_mer] = probability\n",
    "    m = max(pr.values())\n",
    "    for key, value in pr.items():\n",
    "        if pr[key] == m:\n",
    "            most_prob_kmer.append(key)\n",
    "    return most_prob_kmer[0]\n",
    "\n",
    "result = ProfileMostProbableKmer(text, k, profile)\n",
    "print(result)"
   ]
  },
  {
   "cell_type": "code",
   "execution_count": null,
   "id": "2d4b2f19",
   "metadata": {},
   "outputs": [],
   "source": [
    "def Count(Motifs):\n",
    "    count = {} # initializing the count matrix\n",
    "    k = len(Motifs[0]) # length of the first kmer (but all are same length)\n",
    "    for symbol in \"ACGT\":\n",
    "        count[symbol] = [] # count matrix now has keys A, C, T, and G all with values of empty list\n",
    "        for j in range(k):\n",
    "            count[symbol].append(0) # count matrix now has keys A, C, G, and T all with values of a list of zeroes of length equal to the length of a kmer\n",
    "    t = len(Motifs) # length of Motifs, a list of kmers (strings)\n",
    "    for i in range(t): # for each kmer in Motifs\n",
    "        for j in range(k): # for each element of the kmer\n",
    "            symbol = Motifs[i][j] # assigns the key (symbol) to a nucleotide (ACGT) in Motifs\n",
    "            \n",
    "            #count[symbol] corresponds to the key of the dictionary count\n",
    "            #count[symbol][j] corresponds to the position in the list assigned to the key\n",
    "            count[symbol][j] += 1 # adds 1 to the position in the list assigned to the key\n",
    "    return count\n",
    "\n",
    " \n",
    "\n",
    " \n",
    "\n",
    "# Input:  A list of kmers Motifs\n",
    "# Output: the profile matrix of Motifs, as a dictionary of lists.\n",
    "\n",
    "\n",
    "def Profile(Motifs):\n",
    "    t = len(Motifs)\n",
    "    k = len(Motifs[0])\n",
    "    profile = Count(Motifs)\n",
    "    for i in profile:\n",
    "        for j in range(k):\n",
    "            profile[i][j] = profile[i][j]/t\n",
    " \n",
    "    return profile"
   ]
  },
  {
   "cell_type": "code",
   "execution_count": 21,
   "id": "040e7ce4",
   "metadata": {},
   "outputs": [],
   "source": [
    "import numpy as np\n",
    "\n",
    "def form_profile(motifs):\n",
    "    bases = {'A': 0, 'C': 1, 'G': 2, 'T': 3}\n",
    "    counts = np.zeros((4, len(motifs[0])))\n",
    "    for line in motifs:\n",
    "        for j, base in enumerate(line):\n",
    "            counts[bases[base]][j] += 1\n",
    "    freqs = counts / counts.sum(axis=0, keepdims=True)\n",
    "    return freqs.tolist()\n",
    "\n",
    "def score_motifs(motifs):\n",
    "    bases = {'A': 0, 'C': 1, 'G': 2, 'T': 3}\n",
    "    n = len(motifs[0])\n",
    "    counts = np.zeros((4, n))\n",
    "    for line in motifs:\n",
    "        for j, base in enumerate(line):\n",
    "            counts[bases[base]][j] += 1\n",
    "    score = sum(len(motifs) - counts.max(axis=0))\n",
    "    return score\n",
    "\n",
    "assert score_motifs([\n",
    "    'TC',\n",
    "    'CC',\n",
    "    'AC',\n",
    "    'TT',\n",
    "    'AA',\n",
    "    'TT',\n",
    "    'TC',\n",
    "    'TA',\n",
    "    'TC',\n",
    "    'TC',\n",
    "]) == 7"
   ]
  },
  {
   "cell_type": "code",
   "execution_count": 22,
   "id": "6370c930",
   "metadata": {},
   "outputs": [],
   "source": [
    "def greedy_motif_search(dna, k, t):\n",
    "    best_motifs = [chunk[0:k] for chunk in dna]\n",
    "    for i in range(len(dna[0]) - k + 1):\n",
    "        kmer = dna[0][i:i+k]\n",
    "        motifs = [kmer]\n",
    "        for j, chunk in enumerate(dna[1:]):\n",
    "            profile = form_profile(motifs[:j+1])\n",
    "            motifs.append(profile_most_probable_kmer(chunk, k, profile))\n",
    "        if score_motifs(motifs) < score_motifs(best_motifs):\n",
    "            best_motifs = motifs\n",
    "    return best_motifs"
   ]
  },
  {
   "cell_type": "code",
   "execution_count": null,
   "id": "c1c059c1",
   "metadata": {},
   "outputs": [],
   "source": []
  },
  {
   "cell_type": "code",
   "execution_count": 23,
   "id": "b8db6366",
   "metadata": {},
   "outputs": [],
   "source": [
    "k = 3\n",
    "t = 5\n",
    "dna = [\n",
    "    'GGCGTTCAGGCA',\n",
    "    'AAGAATCAGTCA',\n",
    "    'CAAGGAGTTCGC',\n",
    "    'CACGTCAATCAC',\n",
    "    'CAATAATATTCG',\n",
    "]\n",
    "sample_in = (dna, k, t)\n",
    "sample_out = ['CAG', 'CAG', 'CAA', 'CAA', 'CAA']"
   ]
  },
  {
   "cell_type": "code",
   "execution_count": 24,
   "id": "91cc9967",
   "metadata": {},
   "outputs": [
    {
     "ename": "NameError",
     "evalue": "name 'profile_most_probable_kmer' is not defined",
     "output_type": "error",
     "traceback": [
      "\u001b[0;31m---------------------------------------------------------------------------\u001b[0m",
      "\u001b[0;31mNameError\u001b[0m                                 Traceback (most recent call last)",
      "\u001b[0;32m<ipython-input-24-8d7b46a2832f>\u001b[0m in \u001b[0;36m<module>\u001b[0;34m\u001b[0m\n\u001b[0;32m----> 1\u001b[0;31m \u001b[0;32massert\u001b[0m \u001b[0mgreedy_motif_search\u001b[0m\u001b[0;34m(\u001b[0m\u001b[0;34m*\u001b[0m\u001b[0msample_in\u001b[0m\u001b[0;34m)\u001b[0m \u001b[0;34m==\u001b[0m \u001b[0msample_out\u001b[0m\u001b[0;34m\u001b[0m\u001b[0;34m\u001b[0m\u001b[0m\n\u001b[0m",
      "\u001b[0;32m<ipython-input-22-a4690e268cdb>\u001b[0m in \u001b[0;36mgreedy_motif_search\u001b[0;34m(dna, k, t)\u001b[0m\n\u001b[1;32m      6\u001b[0m         \u001b[0;32mfor\u001b[0m \u001b[0mj\u001b[0m\u001b[0;34m,\u001b[0m \u001b[0mchunk\u001b[0m \u001b[0;32min\u001b[0m \u001b[0menumerate\u001b[0m\u001b[0;34m(\u001b[0m\u001b[0mdna\u001b[0m\u001b[0;34m[\u001b[0m\u001b[0;36m1\u001b[0m\u001b[0;34m:\u001b[0m\u001b[0;34m]\u001b[0m\u001b[0;34m)\u001b[0m\u001b[0;34m:\u001b[0m\u001b[0;34m\u001b[0m\u001b[0;34m\u001b[0m\u001b[0m\n\u001b[1;32m      7\u001b[0m             \u001b[0mprofile\u001b[0m \u001b[0;34m=\u001b[0m \u001b[0mform_profile\u001b[0m\u001b[0;34m(\u001b[0m\u001b[0mmotifs\u001b[0m\u001b[0;34m[\u001b[0m\u001b[0;34m:\u001b[0m\u001b[0mj\u001b[0m\u001b[0;34m+\u001b[0m\u001b[0;36m1\u001b[0m\u001b[0;34m]\u001b[0m\u001b[0;34m)\u001b[0m\u001b[0;34m\u001b[0m\u001b[0;34m\u001b[0m\u001b[0m\n\u001b[0;32m----> 8\u001b[0;31m             \u001b[0mmotifs\u001b[0m\u001b[0;34m.\u001b[0m\u001b[0mappend\u001b[0m\u001b[0;34m(\u001b[0m\u001b[0mprofile_most_probable_kmer\u001b[0m\u001b[0;34m(\u001b[0m\u001b[0mchunk\u001b[0m\u001b[0;34m,\u001b[0m \u001b[0mk\u001b[0m\u001b[0;34m,\u001b[0m \u001b[0mprofile\u001b[0m\u001b[0;34m)\u001b[0m\u001b[0;34m)\u001b[0m\u001b[0;34m\u001b[0m\u001b[0;34m\u001b[0m\u001b[0m\n\u001b[0m\u001b[1;32m      9\u001b[0m         \u001b[0;32mif\u001b[0m \u001b[0mscore_motifs\u001b[0m\u001b[0;34m(\u001b[0m\u001b[0mmotifs\u001b[0m\u001b[0;34m)\u001b[0m \u001b[0;34m<\u001b[0m \u001b[0mscore_motifs\u001b[0m\u001b[0;34m(\u001b[0m\u001b[0mbest_motifs\u001b[0m\u001b[0;34m)\u001b[0m\u001b[0;34m:\u001b[0m\u001b[0;34m\u001b[0m\u001b[0;34m\u001b[0m\u001b[0m\n\u001b[1;32m     10\u001b[0m             \u001b[0mbest_motifs\u001b[0m \u001b[0;34m=\u001b[0m \u001b[0mmotifs\u001b[0m\u001b[0;34m\u001b[0m\u001b[0;34m\u001b[0m\u001b[0m\n",
      "\u001b[0;31mNameError\u001b[0m: name 'profile_most_probable_kmer' is not defined"
     ]
    }
   ],
   "source": [
    "assert greedy_motif_search(*sample_in) == sample_out"
   ]
  },
  {
   "cell_type": "code",
   "execution_count": 25,
   "id": "39b477db",
   "metadata": {},
   "outputs": [
    {
     "ename": "KeyError",
     "evalue": "' '",
     "output_type": "error",
     "traceback": [
      "\u001b[0;31m---------------------------------------------------------------------------\u001b[0m",
      "\u001b[0;31mKeyError\u001b[0m                                  Traceback (most recent call last)",
      "\u001b[0;32m<ipython-input-25-2a3d5cc69870>\u001b[0m in \u001b[0;36m<module>\u001b[0;34m\u001b[0m\n\u001b[1;32m      6\u001b[0m \"\"\"\n\u001b[1;32m      7\u001b[0m \u001b[0mdna\u001b[0m \u001b[0;34m=\u001b[0m \u001b[0;34m[\u001b[0m\u001b[0mline\u001b[0m \u001b[0;32mfor\u001b[0m \u001b[0mline\u001b[0m \u001b[0;32min\u001b[0m \u001b[0mdna_\u001b[0m\u001b[0;34m.\u001b[0m\u001b[0msplit\u001b[0m\u001b[0;34m(\u001b[0m\u001b[0;34m'\\n'\u001b[0m\u001b[0;34m)\u001b[0m \u001b[0;32mif\u001b[0m \u001b[0mline\u001b[0m\u001b[0;34m]\u001b[0m\u001b[0;34m\u001b[0m\u001b[0;34m\u001b[0m\u001b[0m\n\u001b[0;32m----> 8\u001b[0;31m \u001b[0mresult\u001b[0m \u001b[0;34m=\u001b[0m \u001b[0mgreedy_motif_search\u001b[0m\u001b[0;34m(\u001b[0m\u001b[0mdna\u001b[0m\u001b[0;34m,\u001b[0m \u001b[0mk\u001b[0m\u001b[0;34m,\u001b[0m \u001b[0mt\u001b[0m\u001b[0;34m)\u001b[0m\u001b[0;34m\u001b[0m\u001b[0;34m\u001b[0m\u001b[0m\n\u001b[0m",
      "\u001b[0;32m<ipython-input-22-a4690e268cdb>\u001b[0m in \u001b[0;36mgreedy_motif_search\u001b[0;34m(dna, k, t)\u001b[0m\n\u001b[1;32m      7\u001b[0m             \u001b[0mprofile\u001b[0m \u001b[0;34m=\u001b[0m \u001b[0mform_profile\u001b[0m\u001b[0;34m(\u001b[0m\u001b[0mmotifs\u001b[0m\u001b[0;34m[\u001b[0m\u001b[0;34m:\u001b[0m\u001b[0mj\u001b[0m\u001b[0;34m+\u001b[0m\u001b[0;36m1\u001b[0m\u001b[0;34m]\u001b[0m\u001b[0;34m)\u001b[0m\u001b[0;34m\u001b[0m\u001b[0;34m\u001b[0m\u001b[0m\n\u001b[1;32m      8\u001b[0m             \u001b[0mmotifs\u001b[0m\u001b[0;34m.\u001b[0m\u001b[0mappend\u001b[0m\u001b[0;34m(\u001b[0m\u001b[0mprofile_most_probable_kmer\u001b[0m\u001b[0;34m(\u001b[0m\u001b[0mchunk\u001b[0m\u001b[0;34m,\u001b[0m \u001b[0mk\u001b[0m\u001b[0;34m,\u001b[0m \u001b[0mprofile\u001b[0m\u001b[0;34m)\u001b[0m\u001b[0;34m)\u001b[0m\u001b[0;34m\u001b[0m\u001b[0;34m\u001b[0m\u001b[0m\n\u001b[0;32m----> 9\u001b[0;31m         \u001b[0;32mif\u001b[0m \u001b[0mscore_motifs\u001b[0m\u001b[0;34m(\u001b[0m\u001b[0mmotifs\u001b[0m\u001b[0;34m)\u001b[0m \u001b[0;34m<\u001b[0m \u001b[0mscore_motifs\u001b[0m\u001b[0;34m(\u001b[0m\u001b[0mbest_motifs\u001b[0m\u001b[0;34m)\u001b[0m\u001b[0;34m:\u001b[0m\u001b[0;34m\u001b[0m\u001b[0;34m\u001b[0m\u001b[0m\n\u001b[0m\u001b[1;32m     10\u001b[0m             \u001b[0mbest_motifs\u001b[0m \u001b[0;34m=\u001b[0m \u001b[0mmotifs\u001b[0m\u001b[0;34m\u001b[0m\u001b[0;34m\u001b[0m\u001b[0m\n\u001b[1;32m     11\u001b[0m     \u001b[0;32mreturn\u001b[0m \u001b[0mbest_motifs\u001b[0m\u001b[0;34m\u001b[0m\u001b[0;34m\u001b[0m\u001b[0m\n",
      "\u001b[0;32m<ipython-input-21-bdcf48a9cfad>\u001b[0m in \u001b[0;36mscore_motifs\u001b[0;34m(motifs)\u001b[0m\n\u001b[1;32m     16\u001b[0m     \u001b[0;32mfor\u001b[0m \u001b[0mline\u001b[0m \u001b[0;32min\u001b[0m \u001b[0mmotifs\u001b[0m\u001b[0;34m:\u001b[0m\u001b[0;34m\u001b[0m\u001b[0;34m\u001b[0m\u001b[0m\n\u001b[1;32m     17\u001b[0m         \u001b[0;32mfor\u001b[0m \u001b[0mj\u001b[0m\u001b[0;34m,\u001b[0m \u001b[0mbase\u001b[0m \u001b[0;32min\u001b[0m \u001b[0menumerate\u001b[0m\u001b[0;34m(\u001b[0m\u001b[0mline\u001b[0m\u001b[0;34m)\u001b[0m\u001b[0;34m:\u001b[0m\u001b[0;34m\u001b[0m\u001b[0;34m\u001b[0m\u001b[0m\n\u001b[0;32m---> 18\u001b[0;31m             \u001b[0mcounts\u001b[0m\u001b[0;34m[\u001b[0m\u001b[0mbases\u001b[0m\u001b[0;34m[\u001b[0m\u001b[0mbase\u001b[0m\u001b[0;34m]\u001b[0m\u001b[0;34m]\u001b[0m\u001b[0;34m[\u001b[0m\u001b[0mj\u001b[0m\u001b[0;34m]\u001b[0m \u001b[0;34m+=\u001b[0m \u001b[0;36m1\u001b[0m\u001b[0;34m\u001b[0m\u001b[0;34m\u001b[0m\u001b[0m\n\u001b[0m\u001b[1;32m     19\u001b[0m     \u001b[0mscore\u001b[0m \u001b[0;34m=\u001b[0m \u001b[0msum\u001b[0m\u001b[0;34m(\u001b[0m\u001b[0mlen\u001b[0m\u001b[0;34m(\u001b[0m\u001b[0mmotifs\u001b[0m\u001b[0;34m)\u001b[0m \u001b[0;34m-\u001b[0m \u001b[0mcounts\u001b[0m\u001b[0;34m.\u001b[0m\u001b[0mmax\u001b[0m\u001b[0;34m(\u001b[0m\u001b[0maxis\u001b[0m\u001b[0;34m=\u001b[0m\u001b[0;36m0\u001b[0m\u001b[0;34m)\u001b[0m\u001b[0;34m)\u001b[0m\u001b[0;34m\u001b[0m\u001b[0;34m\u001b[0m\u001b[0m\n\u001b[1;32m     20\u001b[0m     \u001b[0;32mreturn\u001b[0m \u001b[0mscore\u001b[0m\u001b[0;34m\u001b[0m\u001b[0;34m\u001b[0m\u001b[0m\n",
      "\u001b[0;31mKeyError\u001b[0m: ' '"
     ]
    }
   ],
   "source": [
    "k = 12\n",
    "t = 25\n",
    "dna_ = \"\"\"\n",
    "GGTTACGTGGTTGCACGGAACGTTTACAAAGCCTGTGCTAGAAGAGAAGGATTGGGGGCGGGTTGATCCTTGAAGCTAGGTCATTCCCGTTTGCACAATCATTGTGCTACACCGGCTTGCAACCATGCCATCGTAGGAGAAGCTATCAGGTCCGCC GTAACCCAAGTCGCAGCGGCGCAGGTGGCAACGATGATATTTGCGGTAAGGTTGGCGTGATCTGACGCATATATGAATGTTGGCGCACTTAATTTTGGTCGTCGGCAGTAAGATCAGCTACATTCGAAACTAAATGATTGTGCTAGCGCAAATCAT GTGCGCCCCAGGACTCAAAGCATTTGAGATGGGCTAACTACTTGTGTTGAATCCCTGGATATAACCCGACTATAAAAATTACACTATCCCTAGGACGAGTCCTGCCTCACTATTTAGGTAGTATGACGGTGACATTGCTGCCGGTTTAGCCGCGGG GGCGGATCTAATCCCAACCAGTGGGATCGGCCCTCGGGCAGCAGCCCTACCGGCCTGATTTGGGGCGGGTAGTGAAGAGAATTGATTGTTGAACGAACGACACAGTACACTCTTAACGTAATTACTTGTGCTAGGTTGCTGGTTGTCGCACTACCT AACAGCCACCTGTACCGGTCCGTAGGTGAAATCCACACTTGTTGTGCTCGTTGGTGGTCTGGCGGGGTGTCCCCGCGTCGGGTTCGCTCGACGCATATCGGGGATTAAAAACATGCTGCTTTTATTCCCGTCCTTATCCAAAGGTTTTTAGACCGT CGTTCGGAGGCACGGAATACATTATGACGCGTGGTGCCCTATTGCGTAATATCAAGAAGCTAGAGGGTACAACTCCAATTGCGCCCATCATCGAAGGTATATTCTCCTATACTTGTCCCCAATAGTTGTGGTATTATGGGTCGCAAGAAATAGATT CGCCTGTGACAGATTGGTTGTGGTCTCCTCTCTGGCACAATCCTTATCCGGCAGGTCCGGCAGATCTGAAACGGTATCTGAATCTGACTCTAGTCAGTTTGAACGGTGTGGCTTTTAAGGACTGGGCCGTTTTATCAAAAGTCGGACCCATTGGAA TTGAATTGGCCCGTAAAAACAGCAATACATAAATCTTAGCTCTTGCCCGTAAATCCAAGACCCTCGCGGCCAACGTTGGTTTTAGAGGAATAATGATCTCTGGATGCGCGGGCAGCTAATGGTTAGATTTAGACTTTTTGTGATCTATTTGTGGGT TTCAGTCATAGATTGGCAGGATGTGCGAGAGGTGCAACTCAGACATTGCTATTTGCAACTACTTGTTGTGATATGGGTAGGGATTTGTCACGTGGCCCATATGTATTGGAATCCCATCAACCGAAAAGTTTAGAACTAGCGATTCATCATGCCCCC GGCTGGAAGATCGGGTAGCCTTCTACGGAGGGCAAGCCAGGGAGCTCGTTAATCGGGGAGGATGAGTGATTAATTTCTTGTGATGCAGCACACAGATATTATCGCAGATTCTCTACTCATTTCCGCGCTTGCAACACATAAATAGTTATCTGTATC CACTATGTCCCATCCTCTTGTTCGAAAATAGAGTTTATTTACCTGGCTAACATGGGCATGGAAGTGCCAAATCCATAGTTTTTCGCGTGCCCAAACACTGGTTGTGTTAGGACTGAGTTAGTGCAGGAGGATGCGTAGGGCTAAGTCCAGAGAATG CGCAAATGAGGCACACTCTAAGTACAAGTCTCATCGGAAATAATTTACGGGTGACCTTCCGCTTTTGAGACCTCAACTAATAGCAATCGTTGTGGTTTTTAGGGCCCAGAGGCCGCCTAACGGGACCAGCCTTATTCGGGAAACATCTACCGGAAG ACACGACTTACGGAGTACGGTGGGCGCACGCCACGTGACATATTTTCTATTGATTGTGGTCAATAGCTTTGGCTGTTCAGGGGAGCCCTGCAAAGACTGCGTAGATCAGACATAGATCGGACGACATACTCTGGAGTTCTTGATCACATACCAAAC TCCCTAACCATCGGGTTAGCGTTTGCAATCATGTGCAACTAACTCGGTAACATATGACCTTAAAACTCTGTTCAGTACAACGCACCCCGACCTTATCCTGATCTCATCCTTAGCTCGATCTATCCCCCGATTTGGACGTTCACTACTTGTTGTGCT CGTCGAGTCTTGCAGCAGCAAAGTTAATTATATGGCCTTCAGATATGATCTTTTCGTGTGGTGCCTAAAGATTACCAGCTAAACCTGATGCGGTCTCGACAAGCCGTAAATGCTTGTGTTAGACGTCGACTTGTTTGCGGCATATAAATCTGGATC GGATAGAGTGACACTCATCCTGAGCACTAGTTGTAGGGACGGGAAGGTGCTGTAGACGATTGCCCGTGAAAACATATGAGCGTAAATCCTTGTGATCGGTGGCTCTCATTCGCTTAATTAAGTTAGGGTGACGGGGAGAGCAACTTATCAGTTTAA AGTTATTGTGTTAGCCTGGCTGTTCGTCGTGAATAAACAACAGGGCGTGGGTTCTAGCCATACAGCGCCCTAACAGAAACAGCTTGCGGATCCTTTCATTCACGGGTTCACCGCCGCCTGTTTATCATAATTGCGTACAGGGCCTATACGAAGTTC CTGGAGAAAGTGCACCCTGGCGGCGGCCGTAACCAGTTCTCCGGCGTTTGGAAGAACTTTATGGATGGACGGATTTCTTGTGATTCCGTATGCCGGATTTTGACGTGTTTAACCCCATATTTTGAGGGAAGGGGACCAGGCCGTTATCCTGAACCA AGGGACGCTTACGTACCACGGACTAGTCCTTGTGGTCCAGGATACTACACATTCTAGCCAGGACCACACCCGGCTAGGTGGCCGGCACTAGCGGATATCTAGGTGCGGAGGCAATTCTATGTGCCCCGTAACATGCGAAAATTGATCCTTAGAAGT TATCTGTACGCTCTTCTCTGCCAAACTGCTTGTGATCTTCTCTCACCAGAATTTCGTTACTCATAATCGACTGAAGTATTGCTCCAATCTAAGGAAATATACGCAGGAACTGTCGGTAACCGATATCGAGTTCCTCCAAGTTAGGCTACAGGCCGG GTCGTGCTTGCGAAATGCCCTCAGTGCCGGGCATTTCCCATGTTGTGAGGACGAGGTGGACGCCGATAAAAATAACGGGGTGGTGAGACTCTAATATTGATGCAAGATCTTTATCAGTGCAATACTTGTGGTGGGTGGGGACTGTTTGTTTGCGCA TACGCGTATAAGCGTTGCCCTTCGATCTTACATTGCCCGAGTTCATGAACCTCTGCGCACACCCTTGTAACCCCCTGACAAGGCTTGGATGTCCCTCCTTTTACCTCCACGGTTAGTCAGAAGGGTCAACACAACCGCCGGCCTAGTGTTTGTGAT TTTTCGGCAGCTCCCTATCCACCCCGGTAGCTGGATACGTTTCAATCACAGATTCAAATGTGCCCAGAATTCAGTCACTGTGTAATGCTGTTGGTCTTGGAAGAGTCAACTCATCGAAGCGCGACTCGATCCAATGATTGTGTTGGCGGGGGCCAT CCCATTGGGAAACTTAAATCCCAACATGTAAATCTAGTCATAACAGAAAATTTTTGTGGTACTGTTAACTATAGGTTATTTCACATCTGCCCTAATGGGGACGGTCTCCGTCAACGAGCGTCGTTCCGCTAATTGTGCTGTCTGTAACGTAGATAC AATAGGATCAAACTTTAAGCTGTGAAGTAGTAAAGTGAAGTCCTCCGGCAAGTACCGTCTTGATTAATATCCCGTTACATTTCGCCGCTTGATGTTCGGTTCGGGCGGTACCTGCGGTCACGAACGCAAGCGACTACTTGTGGTCCGAGACACGCG\n",
    "\n",
    "\"\"\"\n",
    "dna = [line for line in dna_.split('\\n') if line]\n",
    "result = greedy_motif_search(dna, k, t)"
   ]
  },
  {
   "cell_type": "code",
   "execution_count": 26,
   "id": "d47b7ba5",
   "metadata": {},
   "outputs": [
    {
     "ename": "NameError",
     "evalue": "name 'result' is not defined",
     "output_type": "error",
     "traceback": [
      "\u001b[0;31m---------------------------------------------------------------------------\u001b[0m",
      "\u001b[0;31mNameError\u001b[0m                                 Traceback (most recent call last)",
      "\u001b[0;32m<ipython-input-26-a7fdaa18af38>\u001b[0m in \u001b[0;36m<module>\u001b[0;34m\u001b[0m\n\u001b[0;32m----> 1\u001b[0;31m \u001b[0mprint\u001b[0m\u001b[0;34m(\u001b[0m\u001b[0;34m'\\n'\u001b[0m\u001b[0;34m.\u001b[0m\u001b[0mjoin\u001b[0m\u001b[0;34m(\u001b[0m\u001b[0mresult\u001b[0m\u001b[0;34m)\u001b[0m\u001b[0;34m)\u001b[0m\u001b[0;34m\u001b[0m\u001b[0;34m\u001b[0m\u001b[0m\n\u001b[0m",
      "\u001b[0;31mNameError\u001b[0m: name 'result' is not defined"
     ]
    }
   ],
   "source": [
    "print('\\n'.join(result))"
   ]
  },
  {
   "cell_type": "code",
   "execution_count": 27,
   "id": "868db0cf",
   "metadata": {},
   "outputs": [
    {
     "name": "stdout",
     "output_type": "stream",
     "text": [
      "71\n"
     ]
    }
   ],
   "source": [
    "def HammingDistance(seq1, seq2):\n",
    "    return len([i for i in range(len(seq1)) if seq1[i] != seq2[i]])\n",
    "\n",
    "def PatternStringDistance(pattern, dna):\n",
    "    k = len(pattern)\n",
    "    distance = 0\n",
    "    for seq in dna:\n",
    "        l = len(seq)\n",
    "        hd = float('inf')\n",
    "        for i in range(l - k +1):\n",
    "            hdCurr = HammingDistance(pattern, seq[i:i+k])\n",
    "            if hd > hdCurr:\n",
    "                hd = hdCurr\n",
    "        distance += hd\n",
    "    return distance\n",
    "    \n",
    "pattern = \"GGACCAA\" \n",
    "dna = [\"CACTCCGTACCACACACTTGGCACCATGCACTCAATCCCTGGCGTAACACGATCCTATACATACGAGTAACAAAAGCCAACGAGAAGGTTCCCGTCTTGGAACA\",\n",
    "       \"CTCGGTGCTCTTAGTTAGTAAATTACCCCTTATGATCCCAGGGTGTAACAAATTGACCATCCCCTGAGACCACACGCTCAGAGCATGGCATGCTGTGGTTAATC\",\n",
    "       \"CGTGTTATCGGAATGCGTGGCAACTCGCACACCCTCTAGCACTGTGAACTGGCTAGAGCCATGTTGACGACCCGCTACTAGTAACCGATGCACTTACCGAACTT\",\n",
    "       \"CGGCTGCACGCTTGTCCCTTTGCCTTTCATAGCGGACTCGGCGCTCAAACCGATATGTAGCATTCGGGTCCGAGGTACATACCGTCTAACCTTCAGAGAGTATC\",\n",
    "       \"AAAAAATTGACCTTAACTTACACTACGGGCTAAAGCCAAGTGATCATTCTGTCTATTCGTTCTATATACCGCACGGTAGCTCTAGAGGAAGCTTTTTGCCGTGC\", \n",
    "       \"ATAACCTCCGTGGGCACGCAGGTCGGAGCACGCTTGTCGTTAAGCCTTCACCCTTCTGACTAATTATCGGGCGATAACTATGAGCATAAACAGGTGACAAATCC\", \n",
    "       \"TCAATTCTCAGTCTGGGCCATGTGCCGCGACCCACGCGCATGAGTATGTCATCCTCGGCCTATGCTTCAAGATGGCGTAACTAGCCTCTTTTGGAGTCGACTCC\", \n",
    "       \"TATACCGATTCGATGTCTTAGTCGTTGCATTTGCCACTCTTAGTGGACGCGGATCAAGCCCGAACACTCCTGTCAGGTCCACTTTCCCCCTTTTCTATATATGG\", \n",
    "       \"TCAAAACGTCATCGTGCTGCCGCGTTCATCCCACGTTTTCAAGCGGGCGGAGGATTAGAGAGATACGCCCCTGGAGCTCCGAGTTCTGTACACCACTGTCATGT\", \n",
    "       \"AAGCCCTTTATACGCGCCGGATGGTAACTAGGATCGGTCAAGTACCAGAAAGTGGTTCAAATTGATGCAGGCATAGCTTCGCAGTAGTATGACGAACGCCGCCA\", \n",
    "       \"TTTATCATTTAACTTTTTGTGATATATTACAAATCCACAAGGGCCTTACGCCGCTGAGGGACATTACTAGCCAGCTGCGCGCAAGCATGCCACCGAAGTCCTAT\", \n",
    "       \"GTACGATGCCAATGTCGTACTGCTGCCCCAAGCGGCCATTGGAAAGCGGTTCTGGATCAAATTTGTAGACAAGTCGGGTCCATGTCAACACCCCAGGGCCGGAA\", \n",
    "       \"GGCGTAAGCGCTCGAACAAGTTGTTATTTGCAAATATACGGTGATTATGCTCGCGCGCGATATCCGCCCTACATTTCCAAACATTCCCGGTCATTAGTACTGCG\", \n",
    "       \"TTGAACTTGTTTTTTGGGCTTCGGCTGCGTTCCGTATAAATTCGGAGGAACGGGGCAAGCATGAAAGCCCTAACATAGCCCGCTTTAAACGGGACGTTTCGCGT\", \n",
    "       \"CCTCGTCGCTAGCACGATGAAAACTTATACAGTCCTCTCGGACGCAGTGGATACCGGGTGATCATTGGGACAAGAGGGGTAACAAAATCGCGGACTCATCATGC\", \n",
    "       \"ACACGGATTGCCCCGAGGGTGTGCTCCACCTAATTTGCCGCTGCACCGAACAGCGCATATCCCGGCGCTTGCCTTGCTACGGTGTGGGCTGACAAAAGATGATT\", \n",
    "       \"GTCCTGTCAAAAGGCTCCAAGGCTGCCAGGTTTGAATGATGCTTTTATTTGTGCAGCAATCCCTCGAACGTAGCCTCGATTACCTACGTGATTCCCCGCGGGCT\", \n",
    "       \"TTGCATCACGTTTGAGTACCTTACCATGACATACCACGATACCCAGCGACGGTCTGGCCGCGAGCGTGCAATGGACCAAATTTCCTAGCGTCTTTCACTCCGAA\", \n",
    "       \"GGTCCCCGACGGATATCTGATAATTTACAGCCACTTACCCTCGTCGCTGCATCAATGGGCCAAACGACGATGTTCCTCAAAAGCTTGGATATATGCACTGGGTT\", \n",
    "       \"TTCGCTCTGTTGCATGTTACACCTCACTTGTAAGGTGAATATCACGGCCGTCGCGCCCGTAGTTAACGCAGAAGATCCCTAAAGGAAGCAGTAACTGGGACAAT\", \n",
    "       \"CCCACGGTAACGGTTCGTCGCTTGTCGCTCATGATAGAAACCATTGTACGGGGAACAGTAACATCTTTTGATGTGTCGACTGGACCTAACGAAGCTCTGCTGAA\", \n",
    "       \"GCCGGATCGTAGCATGATGCGAATAAATCAGTTCCCACCTCTAATTAAATTCCTGGCTCGATAAGTCGCGTTGAAATTCCTACTGGGCTCAGCAACACGGACTA\", \n",
    "       \"AATTGGCCCAGGAACGGACGGATGACGTTCAGGTGGTGGCTGTAACTAAGAGTGGGCTCGCAAGATCGGGTTTTTCATTATCTCTGCGAGTCGCTAATTAAAAA\", \n",
    "       \"GTACATGCTGAGTTCGATGGAAAGCATCCCTGACCATATGGAGAATTTAGGTATAACAGTACAGGGCCACGGGTTCGCGCGGTCATGGTCAGCGGCAGAGCATT\", \n",
    "       \"AGACCCTTGGTAGCAGCATCGTCTCTCTCTATTTACAGATGCTCGCGGTACTACGACCGAATCTCTCGCCATTTCCTATTGAGCACAAGAGTATTTATCCGGCG\", \n",
    "       \"GGGTAAACCATGACCGTGACAGAGTCAGGTGTTACCGTGGCCCGTCTGGCTAAAGAGAGGTTTTTTCATAAGTCACCATCCAAATAGACCCACAAGACTCTGAG\", \n",
    "       \"AACTAGTTGTTGAAAACTGTGATCATAATAGCTATTTTGTGCTTCTACTGAATACGGTTAGCTTGTCACCTATGAATATACCGTAAGTAACTTCGCTAGCCGCC\", \n",
    "       \"ATCCGCAGGCTGATCTGTCCCCGCTAAACGCAAGGCTGTCAAGCATTAAAGCGACATCCCCGCTTGTTACCGCAAGCCAGATAACTGCTTATTGATTACTCCCC\", \n",
    "       \"AAATGAAATTTGATCCTCTACCGGGCGCTCCCGGGTCGACGGTTGCAAGGGTAGTTGTGAACAGAGTTTAAGAAGGTGGCCGAAGAGAGCGGGTAATTTAGTTG\", \n",
    "       \"CACCCGGATAGGGAACAATCCACGTCAGAGGACTGTTGACTGGATCCAAGCAACAGTTGTGACGTTATAGTGTTAGAGAAAGGTGTGCCTCCTGCCAGGTTCTT\", \n",
    "       \"ATTCGAAATTGCCCTGCGGATTGAAAGATATTGGTTTAATATTAGTGGGGTATCGCTATCACCAATCGCGGTCCTGTGTCCCCGAAATGCGAGTTCTATAACTG\", \n",
    "       \"AGAGGTTAACAATTAACTGGCGCGGTAATGATTATCCTACTCAACTGTAGCAGTCTGCATGTAGAACCACTGAAGTGGCGGAAACTTGGGGCGCTGTAATCCTT\", \n",
    "       \"TTGATCCTCTCAAGTTTGGATCCTGAGCGGGAACTACAATTCTGGGCATGAGGCGCACGGCACCTGTGGCGATTGTAAGTCTCGGGAGTGCGGACAGTATTTTT\", \n",
    "       \"TGTAATTTACTTAGCGTTAGGCCACCTCCGACTGGACACCAACACCCTTAGAGTAGAGGCCCTGGCGGGGCAAGCCGTTTACAACCACTGCGCACAAGTCTTGT\", \n",
    "       \"GGGGATTGGAAGACAATAATAAAAAAAGACCGACAGATCGAGCACGCATTCTTTGATATATAAGGCTGTGTCGTGCGGACACTCTGATCCATCTATAGGGGGAA\", \n",
    "       \"CTACCTGCAGCTTGGTTAAACTCCAACCAACACTGTCTTTAGATATTATAGCACAAAGAAGACGCTGTCTGTCCCCTCGGCCAACTTTGTATAAGTAAGCCCTG\"]\n",
    "\n",
    "print (PatternStringDistance(pattern, dna))"
   ]
  },
  {
   "cell_type": "code",
   "execution_count": 8,
   "id": "9ac06022",
   "metadata": {},
   "outputs": [
    {
     "name": "stdout",
     "output_type": "stream",
     "text": [
      "Q6 - 0.4 * 0.3 * 1 * 0.4 * 0.5 * 0.1 = 0.0024000000000000002\n"
     ]
    }
   ],
   "source": [
    "print('Q6 -', '0.4 * 0.3 * 1 * 0.4 * 0.5 * 0.1 = {}'.format(0.4 * 0.3 * 1 * 0.4 * 0.5 * 0.1, 4))"
   ]
  },
  {
   "cell_type": "code",
   "execution_count": 7,
   "id": "427f84e5",
   "metadata": {},
   "outputs": [
    {
     "name": "stdout",
     "output_type": "stream",
     "text": [
      "Q6 - 0.4 * 0.3 * 1 * 0.4 * 0.5 * 0.1 = {}\n"
     ]
    }
   ],
   "source": [
    "print('Q6 -', '0.4 * 0.3 * 1 * 0.4 * 0.5 * 0.1 = {}')"
   ]
  },
  {
   "cell_type": "code",
   "execution_count": null,
   "id": "d602422a",
   "metadata": {},
   "outputs": [],
   "source": []
  }
 ],
 "metadata": {
  "kernelspec": {
   "display_name": "Python 3",
   "language": "python",
   "name": "python3"
  },
  "language_info": {
   "codemirror_mode": {
    "name": "ipython",
    "version": 3
   },
   "file_extension": ".py",
   "mimetype": "text/x-python",
   "name": "python",
   "nbconvert_exporter": "python",
   "pygments_lexer": "ipython3",
   "version": "3.8.8"
  }
 },
 "nbformat": 4,
 "nbformat_minor": 5
}
