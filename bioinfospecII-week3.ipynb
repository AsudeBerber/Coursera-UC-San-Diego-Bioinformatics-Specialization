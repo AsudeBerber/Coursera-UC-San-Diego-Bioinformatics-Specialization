{
 "cells": [
  {
   "cell_type": "code",
   "execution_count": 2,
   "id": "0c877cf4",
   "metadata": {},
   "outputs": [
    {
     "name": "stdout",
     "output_type": "stream",
     "text": [
      "PRTEMK\n"
     ]
    }
   ],
   "source": [
    "#translate RNA string into an aminoacid string\n",
    "def translate_rna_to_protein(rna, genetic_code):\n",
    "\n",
    "    protein = \"\"\n",
    "\n",
    "   \n",
    "\n",
    "    for i in range(0, len(rna), 3):\n",
    "\n",
    "        codon = rna[i:i+3]\n",
    "\n",
    "        amino_acid = genetic_code[codon]\n",
    "\n",
    "       \n",
    "\n",
    "        if amino_acid == \"STOP\":\n",
    "\n",
    "            break\n",
    "\n",
    "       \n",
    "\n",
    "        protein += amino_acid\n",
    "\n",
    "   \n",
    "\n",
    "    return protein\n",
    "\n",
    " \n",
    "\n",
    "# Sample Input\n",
    "\n",
    "rna_string = \"CCCCGUACGGAGAUGAAA\"\n",
    "\n",
    "genetic_code = {\n",
    "\n",
    "    \"UUU\": \"F\", \"UUC\": \"F\", \"UUA\": \"L\", \"UUG\": \"L\",\n",
    "\n",
    "    \"CUU\": \"L\", \"CUC\": \"L\", \"CUA\": \"L\", \"CUG\": \"L\",\n",
    "\n",
    "    \"AUU\": \"I\", \"AUC\": \"I\", \"AUA\": \"I\", \"AUG\": \"M\",\n",
    "\n",
    "    \"GUU\": \"V\", \"GUC\": \"V\", \"GUA\": \"V\", \"GUG\": \"V\",\n",
    "\n",
    "    \"UCU\": \"S\", \"UCC\": \"S\", \"UCA\": \"S\", \"UCG\": \"S\",\n",
    "\n",
    "    \"CCU\": \"P\", \"CCC\": \"P\", \"CCA\": \"P\", \"CCG\": \"P\",\n",
    "\n",
    "    \"ACU\": \"T\", \"ACC\": \"T\", \"ACA\": \"T\", \"ACG\": \"T\",\n",
    "\n",
    "    \"GCU\": \"A\", \"GCC\": \"A\", \"GCA\": \"A\", \"GCG\": \"A\",\n",
    "\n",
    "    \"UAU\": \"Y\", \"UAC\": \"Y\", \"UAA\": \"STOP\", \"UAG\": \"STOP\",\n",
    "\n",
    "    \"CAU\": \"H\", \"CAC\": \"H\", \"CAA\": \"Q\", \"CAG\": \"Q\",\n",
    "\n",
    "    \"AAU\": \"N\", \"AAC\": \"N\", \"AAA\": \"K\", \"AAG\": \"K\",\n",
    "\n",
    "    \"GAU\": \"D\", \"GAC\": \"D\", \"GAA\": \"E\", \"GAG\": \"E\",\n",
    "\n",
    "    \"UGU\": \"C\", \"UGC\": \"C\", \"UGA\": \"STOP\", \"UGG\": \"W\",\n",
    "\n",
    "    \"CGU\": \"R\", \"CGC\": \"R\", \"CGA\": \"R\", \"CGG\": \"R\",\n",
    "\n",
    "    \"AGU\": \"S\", \"AGC\": \"S\", \"AGA\": \"R\", \"AGG\": \"R\",\n",
    "\n",
    "    \"GGU\": \"G\", \"GGC\": \"G\", \"GGA\": \"G\", \"GGG\": \"G\"\n",
    "\n",
    "}\n",
    "\n",
    " \n",
    "\n",
    "# Output\n",
    "\n",
    "amino_acid_string = translate_rna_to_protein(rna_string, genetic_code)\n",
    "\n",
    "print(amino_acid_string)"
   ]
  },
  {
   "cell_type": "code",
   "execution_count": null,
   "id": "04cd996b",
   "metadata": {},
   "outputs": [],
   "source": [
    "from itertools import product\n",
    "\n",
    "# Define the genetic code\n",
    "genetic_code = {\n",
    "    'GUU': 'Val', 'GUC': 'Val', 'GUA': 'Val', 'GUG': 'Val',\n",
    "    'AAA': 'Lys', 'AAG': 'Lys',\n",
    "    'UUA': 'Leu', 'UUG': 'Leu', 'CUU': 'Leu', 'CUC': 'Leu', 'CUA': 'Leu', 'CUG': 'Leu',\n",
    "    'UUU': 'Phe', 'UUC': 'Phe',\n",
    "    'CCU': 'Pro', 'CCC': 'Pro', 'CCA': 'Pro', 'CCG': 'Pro',\n",
    "    'UGG': 'Trp',\n",
    "    'AAU': 'Asn', 'AAC': 'Asn',\n",
    "    'CAA': 'Gln', 'CAG': 'Gln',\n",
    "    'UAU': 'Tyr', 'UAC': 'Tyr'\n",
    "}\n",
    "\n",
    "# Amino acid sequence of Tyrocidine B1\n",
    "tyrocidine_b1_sequence = ['Val', 'Lys', 'Leu', 'Phe', 'Pro', 'Trp', 'Phe', 'Asn', 'Gln', 'Tyr']\n",
    "\n",
    "# Generate all possible combinations of codons for each amino acid\n",
    "all_possible_sequences = product(*(genetic_code.keys() for _ in range(len(tyrocidine_b1_sequence))))\n",
    "\n",
    "# Function to check if a sequence matches the Tyrocidine B1 amino acid sequence\n",
    "def is_match(sequence):\n",
    "    amino_acids = [genetic_code[codon] for codon in sequence]\n",
    "    return amino_acids == tyrocidine_b1_sequence\n",
    "\n",
    "# Filter sequences of length 30 and check for matches\n",
    "sequences_length_30 = [sequence for sequence in all_possible_sequences if len(sequence) == 30 and is_match(sequence)]\n",
    "\n",
    "# Print the result\n",
    "print(f\"Number of DNA sequences of length 30 that encode Tyrocidine B1 (excluding stop codon): {len(sequences_length_30)}\")\n"
   ]
  },
  {
   "cell_type": "code",
   "execution_count": 1,
   "id": "ff762ec3",
   "metadata": {},
   "outputs": [
    {
     "ename": "NameError",
     "evalue": "name 'dna' is not defined",
     "output_type": "error",
     "traceback": [
      "\u001b[0;31m---------------------------------------------------------------------------\u001b[0m",
      "\u001b[0;31mNameError\u001b[0m                                 Traceback (most recent call last)",
      "\u001b[0;32m<ipython-input-1-da8005289c87>\u001b[0m in \u001b[0;36m<module>\u001b[0;34m\u001b[0m\n\u001b[1;32m     22\u001b[0m \u001b[0;32mfor\u001b[0m \u001b[0mf\u001b[0m \u001b[0;32min\u001b[0m \u001b[0mrange\u001b[0m\u001b[0;34m(\u001b[0m\u001b[0;36m3\u001b[0m\u001b[0;34m)\u001b[0m\u001b[0;34m:\u001b[0m\u001b[0;34m\u001b[0m\u001b[0;34m\u001b[0m\u001b[0m\n\u001b[1;32m     23\u001b[0m     translated = ''.join([dna_codon_map()[dna[i:i+3]]\n\u001b[0;32m---> 24\u001b[0;31m                           for i in range(f, (int((len(dna)-f)/3)*3), 3)])\n\u001b[0m\u001b[1;32m     25\u001b[0m     \u001b[0;32mfor\u001b[0m \u001b[0mi\u001b[0m \u001b[0;32min\u001b[0m \u001b[0mrange\u001b[0m\u001b[0;34m(\u001b[0m\u001b[0mlen\u001b[0m\u001b[0;34m(\u001b[0m\u001b[0mtranslated\u001b[0m\u001b[0;34m)\u001b[0m \u001b[0;34m-\u001b[0m \u001b[0mlen\u001b[0m\u001b[0;34m(\u001b[0m\u001b[0mpeptide\u001b[0m\u001b[0;34m)\u001b[0m \u001b[0;34m+\u001b[0m \u001b[0;36m1\u001b[0m\u001b[0;34m)\u001b[0m\u001b[0;34m:\u001b[0m\u001b[0;34m\u001b[0m\u001b[0;34m\u001b[0m\u001b[0m\n\u001b[1;32m     26\u001b[0m         \u001b[0;32mif\u001b[0m \u001b[0mtranslated\u001b[0m\u001b[0;34m[\u001b[0m\u001b[0mi\u001b[0m\u001b[0;34m:\u001b[0m\u001b[0mi\u001b[0m\u001b[0;34m+\u001b[0m\u001b[0mlen\u001b[0m\u001b[0;34m(\u001b[0m\u001b[0mpeptide\u001b[0m\u001b[0;34m)\u001b[0m\u001b[0;34m]\u001b[0m \u001b[0;34m==\u001b[0m \u001b[0mpeptide\u001b[0m\u001b[0;34m:\u001b[0m\u001b[0;34m\u001b[0m\u001b[0;34m\u001b[0m\u001b[0m\n",
      "\u001b[0;31mNameError\u001b[0m: name 'dna' is not defined"
     ]
    }
   ],
   "source": [
    "##Peptide Encoding Problem\n",
    "peptide = 'CYCLIC'\n",
    "\n",
    "\n",
    "def dna_codon_map():\n",
    "    codon_map = {}\n",
    "    with open('Downloads/RNA_codon_table_1.txt') as f:\n",
    "        for line in f:\n",
    "            pair = line.strip().split()\n",
    "            pair[0] = pair[0].replace('U', 'T')\n",
    "            if len(pair) == 2:\n",
    "                codon_map[pair[0]] = pair[1]\n",
    "            else:\n",
    "                codon_map[pair[0]] = 'X'\n",
    "    return codon_map\n",
    "\n",
    "\n",
    "def reverse_complement(text):\n",
    "    return \"\".join(reversed([{'A': 'T', 'C': 'G', 'G': 'C', 'T': 'A'}[l]\n",
    "                   for l in list(text)]))\n",
    "results = []\n",
    "for f in range(3):\n",
    "    translated = ''.join([dna_codon_map()[dna[i:i+3]]\n",
    "                          for i in range(f, (int((len(dna)-f)/3)*3), 3)])\n",
    "    for i in range(len(translated) - len(peptide) + 1):\n",
    "        if translated[i:i+len(peptide)] == peptide:\n",
    "            results.append(dna[i*3+f:i*3+f+3*len(peptide)])\n",
    "\n",
    "for f in range(3):\n",
    "    translated = ''.join([dna_codon_map()[reverse_complement(dna)[i:i+3]]\n",
    "                          for i in range(f, (int((len(dna)-f)/3)*3), 3)])\n",
    "    for i in range(len(translated) - len(peptide) + 1):\n",
    "        if translated[i:i+len(peptide)] == peptide:\n",
    "            results.append(reverse_complement(\n",
    "                reverse_complement(dna)[i*3+f:i*3+f+3*len(peptide)]))\n",
    "\n",
    "print (*(results), sep = '\\n')"
   ]
  },
  {
   "cell_type": "code",
   "execution_count": 4,
   "id": "b1564392",
   "metadata": {},
   "outputs": [
    {
     "ename": "SyntaxError",
     "evalue": "invalid syntax (<ipython-input-4-57508aa68fe0>, line 31)",
     "output_type": "error",
     "traceback": [
      "\u001b[0;36m  File \u001b[0;32m\"<ipython-input-4-57508aa68fe0>\"\u001b[0;36m, line \u001b[0;32m31\u001b[0m\n\u001b[0;31m    print translate(string)\u001b[0m\n\u001b[0m          ^\u001b[0m\n\u001b[0;31mSyntaxError\u001b[0m\u001b[0;31m:\u001b[0m invalid syntax\n"
     ]
    }
   ],
   "source": [
    "import sys\n",
    "\n",
    "string = sys.argv[1]\n",
    "\n",
    "def protein_dict():\n",
    "    '''Returns a dictionary that translates DNA to Protein.'''\n",
    "    # Get the raw codon table.\n",
    "    with open('Downloads/rna_codon_table.txt') as input_data:\n",
    "        dna_to_protein = [line.strip().split() for line in input_data.readlines()]\n",
    "\n",
    "    # Convert to dictionary.\n",
    "    dna_dict = {}\n",
    "    for translation in dna_to_protein:\n",
    "        dna_dict[translation[0]] = translation[1]\n",
    "\n",
    "    return dna_dict\n",
    "\n",
    "def translate(sequence):\n",
    "\ttriplets = [sequence[i:i+3] for i in range(0, len(sequence), 3)]\n",
    "\tprotein = ''\n",
    "\tcodon = protein_dict()\n",
    "\tfor triplet in triplets:\n",
    "\t\tif codon[triplet] == 'Stop':\n",
    "\t\t\tbreak\n",
    "\t\telse:\n",
    "\t\t\tprotein += codon[triplet]\n",
    "\treturn protein\n",
    "\n",
    "\n",
    "if __name__ == '__main__':\n",
    "\tprint translate(string)"
   ]
  },
  {
   "cell_type": "code",
   "execution_count": null,
   "id": "fb81eacd",
   "metadata": {},
   "outputs": [],
   "source": [
    "reverse_bases = {'A':'U', 'U':'A', 'G':'C', 'C':'G'}"
   ]
  },
  {
   "cell_type": "code",
   "execution_count": null,
   "id": "9e67bd7e",
   "metadata": {},
   "outputs": [],
   "source": [
    "def dna_to_rna(dna):\n",
    "    rna = ['U' if base == 'T' else base for base in dna]\n",
    "    return ''.join(rna)"
   ]
  },
  {
   "cell_type": "code",
   "execution_count": null,
   "id": "8b9f041d",
   "metadata": {},
   "outputs": [],
   "source": [
    "def reverse(rna):\n",
    "    return ''.join([reverse_bases[base] for base in rna[::-1]])"
   ]
  },
  {
   "cell_type": "code",
   "execution_count": null,
   "id": "8d73cfc5",
   "metadata": {},
   "outputs": [],
   "source": [
    "def encode_peptide(peptide, dna):\n",
    "    k = len(peptide) * 3\n",
    "    kmers = [dna[i: i + k] for i in range(len(dna) - k + 1)]\n",
    "    results = list()\n",
    "    for kmer in kmers:\n",
    "        rna = dna_to_rna(kmer)\n",
    "        if protein_translation(rna) == peptide or protein_translation(reverse(rna)) == peptide:\n",
    "            results.append(kmer)\n",
    "    return results"
   ]
  },
  {
   "cell_type": "code",
   "execution_count": null,
   "id": "46077ef1",
   "metadata": {},
   "outputs": [],
   "source": [
    "sample_dna = 'ATGGCCATGGCCCCCAGAACTGAGATCAATAGTACCCGTATTAACGGGTGA'\n",
    "sample_peptide = 'MA'\n",
    "sample_output = [\n",
    "    'ATGGCC',\n",
    "    'GGCCAT',\n",
    "    'ATGGCC',\n",
    "]"
   ]
  },
  {
   "cell_type": "code",
   "execution_count": null,
   "id": "574755cf",
   "metadata": {},
   "outputs": [],
   "source": [
    "assert sorted(sample_output) == sorted(encode_peptide(sample_peptide, sample_dna))"
   ]
  },
  {
   "cell_type": "code",
   "execution_count": null,
   "id": "0c78468b",
   "metadata": {},
   "outputs": [],
   "source": [
    "test_dna = 'AACAAAGTCGCGGAAACTCAATGGCTGCTTACGGATCCCAGAAACTGGATCCTTTGTATTAAGCTGGAACTTTGCATAGACCGCTATTTCGTCCATCGGGGATTGCATTCTGAGGTACCGAACCTCCAATGGCAAGAAGCATATCGGCGTCGCCTTTTATCCACCGTACTGCCCTACCGCTGATGGTAGCAAGGTAGGCTGTGCTGGCGTTACATTCGCGATATTAAGTAGATATATGAAACAACGCTTACTAGCAGCTGTATTTATCGCTTATCTCGCGGACTCAAATAGTAAGTCGCTCCAGCTCCTAGGGGGGACGATACAAGGATCTAAAAACGTCCGTTGTTCCTTAACGTGTTACCTGCCGCTCTCACCATGATCTGAGTCACTCCGGCTATCGACTGGAGGCCCCTGCACTCCGAAGTACCTAACTAGGTTTGGCACCTCCGAGTGCAAGCGGTATGGATAATGTTCATAAGACCCGACACGATCCCGAGACCTAACGAGTATCGGTATCGCCTGTACACCTTTGACTAGGTTATAAGGGACCATGCGCTCTCGAACGTATTCCAGGATTATAGGATCTGGTACTCCTGTATGAAATACTCTTAGGCCTGGCTACTTCTGGGACGGGAGGTGAGCTTACCGACGGGAATGGGAAACCCCCTCAAACTACAAGGCGTTAGTCCCCACGGAAGGCAAATGGAGCACAGGGATGCCCTCCGATCTCACATGCCTACAGGCCTTGGTTACGCTGCATCTGGTATCTTATCCTGTTACAGCGACCCCGGGGTCATCAAGGGTTCGTCGCGTCGTAGTCTTGATAGATAGGTGCAAGCGCGGTAATTGTGGGAAGAATTCGCCTTGGTGCGGAGATCCGCCGGGTCCTCCCGGGAGAGGTAATCCGGGCCTGTCCCGACGCGTTGTGGACGTCCAGGCAATGTTTTTCACGCTTATTGCGCAACCACCCCTAAGGCTCGGGCTTTACTTCTTAGGCGAGGAAGTTGGAACCACCGCAAGTTATTTTTTGCAGCACAACGAGGAATAAATACTGGCGGGTTCCTACACCACTATGTGGCCCTCGCAACTTACCAAATGAATACTTGCTGGCGTAGATTTCTCTGAGCTGGGTTCTAACCAAGTCTGTGGGATCTAGACGTAAGACAGACATGACCCTTATTGAGGAAGAAGTTCCTGTCTTCTGATTGTTGACGCACTTTTACCAAAGGCGCCGCCAGAACTGTCCCATAAATCAGCTCTTGCATGCCCAGTCAGCCATCTGCTTAAAGCCGAAGTCCCAATCACTCAAGCTTAACGAGATCCGCCCCGCTTCATTGAAGCTATGATGCTTGCATATCCCGTCTGGCAGTTCTTGCCATCTCCATGTTGTGGTGCAGGTACTACCATTCACAACAATGTTACGGCGCCATGGCGGGCCTATACTGGCCAGTATCACACCTTCATTCAGAAGTTCCAAACCTGTTCATATGCTAGCAGCGCGGAGTGAGCTATCGGGATTAATCAACCTACGCTTGACCGTTTGCAAGTCGATGCCCGTCGGTGGTAACCAAAGTTGCGAGCTCGTATGCTACCAATATCAATCAGTCCTTGCACGTGGATTCGGCATCACTAAGTTGGGCACCTCCGAATGAAGCGAGTACAGCTCTTCTAAACGGGGACACTGAGGACGATGTCAAGGGCGTTACCGACGCTACACACTGTCCGTACTCTCACCTCAATTTCCTTTATCCTATGTGCTGTAGACGTTATGTTGGCGATACTACCGATGCTCACCTTTCCGGTGCCGGCGATAGCGTACTCATTTCATTTATAGCAAGAACTAACGATCCGCCACTGATGCGTAATTGGTGATCGATTGTCAATTTGCCTAAGTTCAACACCCTGCCTACGCCGCCCGTGAGATAACCAGGAGTTCTCTCCCCGGCTTGATCATTCGAATTGCATAACGTGTTGCCGTGTTCACGATGATTCTGGACTAAATTAGGTACCTCGCTGTGTAACCCTCCCGCAACCAATTTCGGGATCGTAGCGGTACGACGAGTCGGTGGCTTCAAAGGCTATCCGGAATGGTGTGAACCTAGGTCGCTACTTCCCCCATACTCTCCAGTTGACTTAATCAGTGTTGCGTACATAGTACGCGCCAAGTCTTTTTCAGGAAGCGGAGGGAATTAACCATGCGTACCGCACTATCCGGATATTGGGAGGATCCAGCGCATGAAGTAAACTGAGACTCCTGTACTAGAGGAATGCCCAGCTGAGGGTTTTGACCATCAGCGCAGACGGACAGCGGACTTCGTAACACTTGATTGTTAGGCACCAGTGAGGAATGGATATCTGCCGCACTAGTCTCTCGCACACAGTCCTGTCCGTTGCGGCCACTTCTATCGTCTTCTATAGTATCTGCATTCGGAAGTCCCAAACTTAAGAAACTTCGAGTTCATTGGTAAGTGGAGATACCCCCACGCCGGGCACTACTATTATTAACCGTCGAACAAGTTAGTCTACTCACGTTTTAGCGATCAGACTCGTCGTGAAAATCTACCATGAGTAGATTGGATTCATACAGAATACAAGTCCTCTGCAACCGGCGGCCCTTTATGGCCTGTATTGCAGCTTCACTCTGAGGTGCCTAACTTGAGACTGTTTAAAGGCGCGTCCTTCCACGGCACGGGAGGAGAGGCGTCTTGACGCCCCGAGTGCGCCGGGTATGAGGAGCCGGACGAGAATTGGCGGCTCAGACTCGAAATTGATTCTTCGCCGTGTCTCTTTTCTGAAGTAAACATATCCCTGCTAGAAATGCCAATGTTGGGGTAGGACAGCTGGCTGCATCACTGTATTTGCATTCCGAAGTGCCCAACTTGATGGGTGCAGAGTTTGCGATGAGGACTCACCAGGGCGGAATTCCAGTCGGCGACGAGCTTACATAGCGAGGTGCCGAATCTGGCATCATTAATGTTAGCGTCGGCTTGGTGTCAACTGACATACGAGTTCCGCGAGACGGAAGATCGGGAGGTTCAGGCGGAGCATTTCATCCAGGGAAAAAACTTTGCACCCCGACACTGAAAATCAAAGTAACTGCTTACTTTCTTTCCGCTTGATGGCATCCCACTTATTAATCTGTCCTAATGGGGTCTCATAGAGCCCGACACGAACTTAATCCATGTGTTAGACGCTCGGACTAGGCAGGATAGCGATTCGTCGTCATATGCGTGTGCTAAGTCTTTCAGATTCGGCACCTCGGAATGCAGGACCATAAAGCGGACAGGCACGGGCGGTGGGTTATTCATGTGCTAGAAGGGACGTGGTCGACGGCGGATGTGTAACTTGCCGTGTTCAGTGTACAAAGTCTAGTTAGACCCAACATGGATCTCACCTTGACCAGCTATTCACGGGAATATTAGCGATTCGTACTCGTTACACCGCCTTTCTAAATAGCCCGAGGCACTAATGCCCAGAGGTAACCTGTTAATTGGGGGCCAGCAATGAGCGTAGAATCTAATCGGTACTCTCTCCGTTTCGGCCAGATTTCGAGGGTCTCGGGGTTTAGAGTCTGTATCACAGTCTATCGGCATGAACTGAGGGCCCGTGGTGGCGGAACCATTATGGCGTACGCCTATAATCCAAAAAAAAACGCTCTTTCTCTCCGGAATTTCGTAATATCGGGATGTCCATGGGCACGTTTATGGCCGTTTGTTGGTATGGTAGGTACTAGTGCGCGAGCGTCCCCGTTCGAAATCCCACATTCTAGGGCACGCTTCCGCAGCTAAGAGATCCCTGTGCAGTGCCAGCTCAGCTAACTAAGTGCTATCCATCCGAGGCCCGCCTCTTATAGGGCATATAATCCAACTACCACCGTTTCTCCTTTCGACCCTTCAAGTTACGCTTTTGACACCGCATCGATAACGAACAGTGACTTTCGGTTACTCGCTGACGTTGTTTGACCATGCGCGTGGATGAATAAGTAGGCCAATGGTCTCCCTAGATAGGACTCCATTCGGGTGGTCAGACGCTCGACCCCCCGTATGCGTCGGTACACAAGATGACTCAATTTTAGCCCACGGTTGTCGAAGTACGCAACGAGGGTTACAACTGTGTTGTTTATGATCAGTTATGGTCTGGGGTCCCTAATTAAGCGAATCTAGTTGGCGCACATAACTCGCAGATATGTACAAGCTGGCTTTATGTGTAGCTGTTTTATTAGGATCGGCCTTTCAATAGGTGCTTATCCTACGCTGACCTCAGGGTGGCTCCGTAACGGGCGGCCGCAGGGGAATTTCTGCCCATTTGTTACCACGTGTACCGGACCTTACTGCCTCACGGACCAGCAATCATAGACTTACACTTAGTCCACTTACGGGACGATCATCACCTGAAGAACTCGTTTCGTCACGCAGTCCGGGCCTGTGGCCTGTGATAAGAGACTGCGGAGAGTTGAGGATGGGCTAGCGCCTCATACTCTTGATGGGTGAGGCCAACGGGTTAGCAAGCCCATAGTGACTCGTTGCTGGTGCTGGTTACTTTAGCTAGCATTTTTCGAACAGTATTGCCGAAAGACTAGGAAAGGCGTTAACTAAAGCGGTACATGTTCCAAGAGTTCGTCACAATCCCCGTTGAACCGATCGAGCTTCAACAAACGGATCCAGCTTCCCATGTATGATAGGCGGACGAGGACGATGGCCGATGTCACGAACCCCGAACCGTGCCGCGTGACGGGACGTTGCCTTGCCGTGCGCGAGCAATATGACGTGTCGGCTGCCGTGTTTCATAAGGTAAGTGCCATTCCCGAGCACCGAAGTCGTTGGCGCTGACAATTATTCAGAGATGATCGACGTTGCCATAAATTGACTTAAACAGGCACGGGGATAAGTACGAGGTGAAGTATTATAACTATCTGATGCCCGTTCTAACAGGGTAAAGCCGGCCGTATAAATACGGGAACACTACCATTATCGGATTCCACATGCTCTCATTTCGGCCAATAGCGCTCTCGAGGCGATCCTTTCGTTAAAGTATGTGTCGCTGATCACCGCCCGACCTTTTAAAGCCCCCTGACCTGAGAAAAGACGACTTAATAGGAAATTTCGCGTCTAGTGCCCTCCATCGCAGTGTCCGGCTAAACTCGGTTACATCACCGGTCGGAGAATACAGCATCGACGCACAACAGGCAGTACCCGGTCCTCGTGACACGATTCTTTTTGGTTAGAAAACGCAGCCATTTGGACTTCTATTCAGACGTCCATACACACACAATTTCCGCTTCAGCCGGGACACGCCGTACGCAGGGAAGGGCCACGCCTATCAATATAACGAATAGTAGGGACCTTCGTTTTTAATCGGCCTGAGCGGGTAACTACGCAGTAATGTCCGGTCTAAGACTAACTTCTCGTGCCCCGAATGGGCGTAAATAAAAAGGTGCGAATCGGGCGCACCTATTATTAACTGCTCATGCTAACACCCTTTCCGTAGTTTTACACCACGTCATATGACTGTTTTCGATGCGCAGACTATGAACGACTGTCTGCCTCCGGACTGATACGTCTCGCCAGCCATACAATATCGTAACGCTTGATTGGCAAAAGAGCTAAGACACTTATCGCCGCAGGTAGACGCACGCCGGATTACTTTTTTACACAGTGAAGTTCCAAATCTAGCAACTGAGACCTGTTACGACCGCAAGTCACGACGTGGGGATTTCATCCGACTACGAACGACTGCAAGACAATCTCGACAGAATGTGGGAAGTTCTAGTCTTTAACAGCGAGGAAGTCCTTCATGTCTTCAAAACGAGACTGGTACTTGACGCTTTCCAGGGCCGCTTCTCTTACGTTTTCGCGAGGGAAGTAAAGAATATCTGAGTTGTGGGCATTAAATTGGGCACCTCGGAGTGTAAGTATATGCGGCTCGATCAAATTAGGTACTTCACTGTGTAGTCCGCCTCTGTCAAGTCATTCACGCACGAGCAATGTTTCGCGTGGAGCGAGAAACGCGTATGTGAAGGGCCACATAATCGCGCTTACTTGACCTGCTTTTGATAGACACCGCACGCTGGTCTCCTCCAGCTCTCCACCGAGGGCGGGCTCCCGCAAGGTTCTCGGTTCCCCAGTACCGCTGAAGCTTATTGATAGTGTGCGCCGCTCATCGGTCGAGCCTGGCGAGAAATTATCCATAGGTAATCATTAATGGACCGCCCTCATGCCGGTCAATAACGTACAGCCACGCGGCCCGCAGAGGAATCCTCTACACGTACAGACGACGTCCAGCGACCGAATTCTCCCGTCGGTGAACTATTAAGACCGAGACGATTGCTGGAACGTTATAGACTGTATAGAGAAATCTAAGTTGCGCCATTACAATTGAGTCATGATCAACTTAAACCTTACTATTGGCCGACGACGCGCAGCCCTGATGCATTGGACTCGTACAATCAGAAAGTAAAGTTGGATTCGAAAGTTCGAATCTAGCAACGAGACTGCACTCAGAAGTGCCTAATTTAATCTTTATTGTATTAATACAGGCCCCGACAATCGCCGTTTATTTGGGGCTTGTGTTCCTAGAACTTTGACTTTGATCGACACGTCGCTTAGGCTCCACTCTGAGGTTCCTAACCTCTGTTCCTAGGTTTCGCAGTGTCACCGATTTGTCTTGGATCGTACCTCTGATGTTAAGCAACTACTCGCGTATAGGAGATGCTCATGCTCTTTCCAAAGCAAATCCTGGAAATCGATATGCGACCGAGTCTTGCGCAAACAAAATTTATACGTGCGCGACGTAGGATGCTACCGAATAAGTAAACTCGGGCTTAACCGGTGTGGGGTGCGATGGCATATCTCCGGGGCCAGGGCTCGGGCAGCCAGAGCATTACAACGAAGTAGTTTCAACAGGCCTTGACATGATTTAAACAGCAGGCCACGCATGTATACCTGGGGGGCATAACAAAGGGGTCTCGTTGCCATGGTGGAACTAGACGATATTATCTCCGCGAGCAGGAGTCAGGAGCCACCGTAATGGGCAACAGATCACTCTGTGTTGTCAGAAGTTCACCCATGTGTGACCCGCATTAGGGGATCTAGACGGTGCCTGTTTTGGAGACATTTACGCCGTACTCATTTCTCCCGCGCCCTGGTAAGCCGAATGCGACGCTCAGACTTCGACGTACCGATAAGGGGCAACCTTAGGCCACAAATGACCCGATAAAAGTCAGCAGTTCGCAAGGGTTGGTAGTTGATCGTATCCGTCATAGAGCCCTCGTCGGCTGCTAAGTGTAGAACCACCGACTCTTCGCGTCTGCCCCAGGGCCTTTCATCGCGACCGGTCGTAACACTCCATTGCCAAGAACAACTGCACTAGGTTACGCTAGTTTCATGTACAACGCAATTACGCATCGGGTCTGAGGGCGTCACAGTGATGGCATATATATGCATTTAATTGTTTTTACCAGCAAGATGCGACCAAGACTCTTGAGTCAAAATCTCCTCCGATAAAGCGCGGGGAAGGTCCAACGTTACTTCACTTGCCTCGGCTCCTTTGATATCAATTCGGAGACCCTAGACCTGTGTGCTTAAGTAAGGATGAACACCGTGGAAACCCACACGGCATCACTGAGTCAATGGTGCTCGAAAGAGGAATGACGTGTCTTTCCGCAGGCCGTGCCCGCGCGCCTCTCGCGGTCGATTACGGCAACTACCCGCTGGACTCTCAGCGGGTGGTTACTCTGCTGGGAGGCCCATAGTCGACACCTACTACGATCTCTACACACCGTTTACCGTTTTGTTGATCTGCACAGTGAAGTCCCCAACCTCCTGTTGTAATGCTGGGCGGTCGTACTTCATCAATCCCAATATTACAGCATTGATATCCCACGGCAGACCACCTTAAAGACTAGGAGGCGAGACGCACACAAGAGTTGCTTGCATGGCATGATGTTTACGCTGGCCCAGGGTTTACTGGGACACACTATGTGTTACGATGTGACTCGGCTCACGTTTGCGGGAAGGGGACAGGTACAAGGTGGAGCGCGTTGCATGTCTCCTATGTGTATCGTTATCTGGACCTAATCTTAAATTACCACGCGAGCGTCACTGGGAGGGGCTCATACCCACAGTCGAATTTATCTGACACACCCAGATTTATTGACGTTAATCTGCTCTAATTAGGCAAACAATTCTTCGGATCCCCACACCCACCGCGATGCTAGTTAAGGGACGTTAATTGTGACAAGATGATTCGTAGGTAAGACTCAATTAGCTTACTCCCCACGTGCGCCGTGCCCGAGGCCGCTTAGGTACAATACTGTATGAAATATCTACGCCAACCAAGGCGCTAGTATGCTTGCTGACCGGACTCGCTAGGAAACATTTTGAATTCTTCAGTACATGAAACGCAGCAAACATACTAAGAATAATCTCAAAGACGTGAGATCGTATTACTTCCGACTGCACTCCGAAGTTCCAAATCTTTTTGGAGACGTTCCTCGCTAGCCGGCGCATACTCTGCATACTCCCCTTTGCCACGCGGACCACGTGTTACGGGGCATACCGTGCTTGCCCGAGTAGTACGCCACGCATTTAACGAATAAGGCGGGAACCTAAGGAGATTACGTCCAAGAGGAGGTATGGTAAGCGAATTCGCGTTGAGTCACCATATCGTGTAGTCTCTGCTCAATGGATCCCCAATCGGTGCGTTTTCAGGTCCCTGCACTCCGAGGTGCCAAATTTACGGTTAGCTCGCTTGGAGCCAGGTCTCCTGGACCCCAATTTGCGAACTCACTACACCAGTTAATACTTTGCACAGTGAGGTACCGAACCTCAGACCAGGGGGGCGCCAGGAGGTTTCCTCATAATTGCCATCCTCATCTCTCTGTTCTTGGTAACGGGGCATGACAGGCGAGTAAGCGGGTTAAATGTGATCTTGCCTATTGGCCCTCTCTG'\n",
    "test_peptide = 'LHSEVPNL'\n",
    "test_result = encode_peptide(test_peptide, test_dna)\n",
    "print('\\n'.join(result))"
   ]
  },
  {
   "cell_type": "code",
   "execution_count": null,
   "id": "af243342",
   "metadata": {},
   "outputs": [],
   "source": [
    "with open('Downloads/Bacillus_brevis.txt', 'r') as genome_file:\n",
    "    bacillus_brevis_genome = [line.strip() for line in genome_file.readlines()]"
   ]
  },
  {
   "cell_type": "code",
   "execution_count": null,
   "id": "4c660f3b",
   "metadata": {},
   "outputs": [],
   "source": [
    "len(bacillus_brevis_genome)"
   ]
  },
  {
   "cell_type": "code",
   "execution_count": null,
   "id": "0c646a99",
   "metadata": {},
   "outputs": [],
   "source": [
    "tyrocidine_b1 = 'VKLFPWFNQY'"
   ]
  },
  {
   "cell_type": "code",
   "execution_count": null,
   "id": "24e75a7a",
   "metadata": {},
   "outputs": [],
   "source": [
    "result = encode_peptide(tyrocidine_b1, ''.join(bacillus_brevis_genome))\n",
    "len(result)"
   ]
  },
  {
   "cell_type": "code",
   "execution_count": 13,
   "id": "5e059260",
   "metadata": {},
   "outputs": [
    {
     "name": "stdout",
     "output_type": "stream",
     "text": [
      "['MAIT', 'TLAM']\n",
      "[6, 7, 7, 6, 6, 7]\n"
     ]
    }
   ],
   "source": [
    "from collections import Counter,deque\n",
    "def str_to_array(strs):\n",
    "    return [int(x) for x in strs.split()]\n",
    "\n",
    "def cyclospectrum(pro,dict_=lambda x:mass[x],linear=False):\n",
    "    ret =[0]\n",
    "    for i in range(len(pro)):\n",
    "        t = 0\n",
    "        for j in range(i+1):\n",
    "            t+=dict_(pro[j])\n",
    "        ret.append(t)\n",
    "        tmp = pro+pro[:i]\n",
    "        if linear or i == len(pro)-1:\n",
    "            tmp=pro\n",
    "        for j in range(i+1,len(tmp)):\n",
    "            t+=dict_(tmp[j])\n",
    "            t-=dict_(tmp[j-(i+1)])\n",
    "            ret.append(t)\n",
    "    return sorted(ret)\n",
    "peps = 'MAIT MTAI TLAM TAIM TMIA TMLA'.split()\n",
    "mass = {pro:int(mass) for pro,mass in (line.split() for line in open(\"Downloads/integer_mass_table.txt\"))}\n",
    "spec1 = str_to_array('0 71 101 113 131 184 202 214 232 285 303 315 345 416')\n",
    "print(list(filter(lambda x: cyclospectrum(x)==spec1,peps)))\n",
    "\n",
    "def cycloscoring(seq,spec,dict_=lambda x:mass[x],linear=False):\n",
    "    spec_real = cyclospectrum(seq,dict_,linear=linear)\n",
    "    c1 = Counter(spec)\n",
    "    c2 = Counter(spec_real)\n",
    "    ret = 0\n",
    "    for key in c1:\n",
    "        if key in c2:\n",
    "            ret+= min(c1[key],c2[key])\n",
    "    return ret\n",
    "\n",
    "spec4 = str_to_array('0 71 99 101 103 128 129 199 200 204 227 230 231 298 303 328 330 332 333')\n",
    "peps2 = 'AVQ ETC TCQ TCE QCV TVQ'.split()\n",
    "print(list(map(lambda x:cycloscoring(x,spec4,linear=True),peps2)))"
   ]
  },
  {
   "cell_type": "code",
   "execution_count": null,
   "id": "4eb66644",
   "metadata": {},
   "outputs": [],
   "source": []
  },
  {
   "cell_type": "code",
   "execution_count": null,
   "id": "3f43054e",
   "metadata": {},
   "outputs": [],
   "source": []
  },
  {
   "cell_type": "code",
   "execution_count": null,
   "id": "ede191d2",
   "metadata": {},
   "outputs": [],
   "source": []
  },
  {
   "cell_type": "code",
   "execution_count": null,
   "id": "9a478cfb",
   "metadata": {},
   "outputs": [],
   "source": [
    "def cycloscoring(seq,spec,dict_=lambda x:mass[x],linear=False):\n",
    "    spec_real = cyclospectrum(seq,dict_,linear=linear)\n",
    "    c1 = Counter(spec)\n",
    "    c2 = Counter(spec_real)\n",
    "    ret = 0\n",
    "    for key in c1:\n",
    "        if key in c2:\n",
    "            ret+= min(c1[key],c2[key])\n",
    "    return ret\n",
    "\n",
    "spec4 = str_to_array('0 71 99 101 103 128 129 199 200 204 227 230 231 298 303 328 330 332 333')\n",
    "peps2 = 'CTV CTQ AQV ETC QCV TCE'.split()\n",
    "print(list(map(lambda x:cycloscoring(x,spec4,linear=True),peps2)))"
   ]
  },
  {
   "cell_type": "code",
   "execution_count": 3,
   "id": "28990ca7",
   "metadata": {},
   "outputs": [
    {
     "ename": "FileNotFoundError",
     "evalue": "[Errno 2] No such file or directory: 'data/RNA_codon_table_1.txt'",
     "output_type": "error",
     "traceback": [
      "\u001b[0;31m---------------------------------------------------------------------------\u001b[0m",
      "\u001b[0;31mFileNotFoundError\u001b[0m                         Traceback (most recent call last)",
      "\u001b[0;32m<ipython-input-3-e03138e78988>\u001b[0m in \u001b[0;36m<module>\u001b[0;34m\u001b[0m\n\u001b[0;32m----> 1\u001b[0;31m \u001b[0;32mwith\u001b[0m \u001b[0mopen\u001b[0m\u001b[0;34m(\u001b[0m\u001b[0;34m'data/RNA_codon_table_1.txt'\u001b[0m\u001b[0;34m,\u001b[0m \u001b[0;34m'r'\u001b[0m\u001b[0;34m)\u001b[0m \u001b[0;32mas\u001b[0m \u001b[0mreference_file\u001b[0m\u001b[0;34m:\u001b[0m\u001b[0;34m\u001b[0m\u001b[0;34m\u001b[0m\u001b[0m\n\u001b[0m\u001b[1;32m      2\u001b[0m     \u001b[0mcodons\u001b[0m \u001b[0;34m=\u001b[0m \u001b[0;34m[\u001b[0m\u001b[0mline\u001b[0m\u001b[0;34m.\u001b[0m\u001b[0mstrip\u001b[0m\u001b[0;34m(\u001b[0m\u001b[0;34m)\u001b[0m\u001b[0;34m.\u001b[0m\u001b[0msplit\u001b[0m\u001b[0;34m(\u001b[0m\u001b[0;34m' '\u001b[0m\u001b[0;34m)\u001b[0m \u001b[0;32mfor\u001b[0m \u001b[0mline\u001b[0m \u001b[0;32min\u001b[0m \u001b[0mreference_file\u001b[0m\u001b[0;34m.\u001b[0m\u001b[0mreadlines\u001b[0m\u001b[0;34m(\u001b[0m\u001b[0;34m)\u001b[0m\u001b[0;34m]\u001b[0m\u001b[0;34m\u001b[0m\u001b[0;34m\u001b[0m\u001b[0m\n\u001b[1;32m      3\u001b[0m CODON_TABLE = {\n\u001b[1;32m      4\u001b[0m     \u001b[0mcodon\u001b[0m\u001b[0;34m[\u001b[0m\u001b[0;36m0\u001b[0m\u001b[0;34m]\u001b[0m\u001b[0;34m:\u001b[0m \u001b[0;34m(\u001b[0m\u001b[0mcodon\u001b[0m\u001b[0;34m[\u001b[0m\u001b[0;36m1\u001b[0m\u001b[0;34m]\u001b[0m \u001b[0;32mif\u001b[0m \u001b[0mlen\u001b[0m\u001b[0;34m(\u001b[0m\u001b[0mcodon\u001b[0m\u001b[0;34m)\u001b[0m \u001b[0;34m>\u001b[0m \u001b[0;36m1\u001b[0m \u001b[0;32melse\u001b[0m \u001b[0;34m''\u001b[0m\u001b[0;34m)\u001b[0m\u001b[0;34m\u001b[0m\u001b[0;34m\u001b[0m\u001b[0m\n\u001b[1;32m      5\u001b[0m     \u001b[0;32mfor\u001b[0m \u001b[0mcodon\u001b[0m \u001b[0;32min\u001b[0m \u001b[0mcodons\u001b[0m\u001b[0;34m\u001b[0m\u001b[0;34m\u001b[0m\u001b[0m\n",
      "\u001b[0;31mFileNotFoundError\u001b[0m: [Errno 2] No such file or directory: 'data/RNA_codon_table_1.txt'"
     ]
    }
   ],
   "source": [
    "with open('data/RNA_codon_table_1.txt', 'r') as reference_file:\n",
    "    codons = [line.strip().split(' ') for line in reference_file.readlines()]\n",
    "CODON_TABLE = {\n",
    "    codon[0]: (codon[1] if len(codon) > 1 else '')\n",
    "    for codon in codons\n",
    "}\n",
    "len(CODON_TABLE)\n",
    "sample_input = ''\n",
    "sample_output = 'CYCLIC'\n",
    "def protein_translation(rna):\n",
    "    codons = [rna[i:i+3] for i in range(0, len(rna)-3+1, 3)]\n",
    "    amino_acids = [CODON_TABLE[codon] for codon in codons]\n",
    "    return ''.join(amino_acids)\n",
    "assert sample_output.strip() == protein_translation(sample_input)\n",
    "open('Downloads/dataset_96_4.txt', 'r')"
   ]
  },
  {
   "cell_type": "code",
   "execution_count": null,
   "id": "2463017d",
   "metadata": {},
   "outputs": [],
   "source": []
  },
  {
   "cell_type": "code",
   "execution_count": 12,
   "id": "ad56cc6a",
   "metadata": {},
   "outputs": [
    {
     "ename": "NameError",
     "evalue": "name 'rna_str' is not defined",
     "output_type": "error",
     "traceback": [
      "\u001b[0;31m---------------------------------------------------------------------------\u001b[0m",
      "\u001b[0;31mNameError\u001b[0m                                 Traceback (most recent call last)",
      "\u001b[0;32m<ipython-input-12-dcb3d3a85eeb>\u001b[0m in \u001b[0;36m<module>\u001b[0;34m\u001b[0m\n\u001b[1;32m     41\u001b[0m     \u001b[0;32mreturn\u001b[0m \u001b[0mcount\u001b[0m\u001b[0;34m\u001b[0m\u001b[0;34m\u001b[0m\u001b[0m\n\u001b[1;32m     42\u001b[0m \u001b[0;34m\u001b[0m\u001b[0m\n\u001b[0;32m---> 43\u001b[0;31m \u001b[0mprint\u001b[0m\u001b[0;34m(\u001b[0m\u001b[0;34mf\"Number of occurrences of 'CYCLIC': {rna_str}\"\u001b[0m\u001b[0;34m)\u001b[0m\u001b[0;34m\u001b[0m\u001b[0;34m\u001b[0m\u001b[0m\n\u001b[0m",
      "\u001b[0;31mNameError\u001b[0m: name 'rna_str' is not defined"
     ]
    }
   ],
   "source": [
    "def transcribe(dna_str):\n",
    "    # Transcribe DNA to RNA\n",
    "    return dna_str.replace('T', 'U')\n",
    "\n",
    "def translate(rna_str):\n",
    "    # Define the genetic code (codon to amino acid mapping)\n",
    "    codon_table = {\n",
    "        'UUU': 'F', 'UUC': 'F', 'UUA': 'L', 'UUG': 'L',\n",
    "        'CUU': 'L', 'CUC': 'L', 'CUA': 'L', 'CUG': 'L',\n",
    "        'AUU': 'I', 'AUC': 'I', 'AUA': 'I', 'AUG': 'M',\n",
    "        'GUU': 'V', 'GUC': 'V', 'GUA': 'V', 'GUG': 'V',\n",
    "        'UCU': 'S', 'UCC': 'S', 'UCA': 'S', 'UCG': 'S',\n",
    "        'CCU': 'P', 'CCC': 'P', 'CCA': 'P', 'CCG': 'P',\n",
    "        'ACU': 'T', 'ACC': 'T', 'ACA': 'T', 'ACG': 'T',\n",
    "        'GCU': 'A', 'GCC': 'A', 'GCA': 'A', 'GCG': 'A',\n",
    "        'UAU': 'Y', 'UAC': 'Y', 'UAA': 'Stop', 'UAG': 'Stop',\n",
    "        'CAU': 'H', 'CAC': 'H', 'CAA': 'Q', 'CAG': 'Q',\n",
    "        'AAU': 'N', 'AAC': 'N', 'AAA': 'K', 'AAG': 'K',\n",
    "        'GAU': 'D', 'GAC': 'D', 'GAA': 'E', 'GAG': 'E',\n",
    "        'UGU': 'C', 'UGC': 'C', 'UGA': 'Stop', 'UGG': 'W',\n",
    "        'CGU': 'R', 'CGC': 'R', 'CGA': 'R', 'CGG': 'R',\n",
    "        'AGU': 'S', 'AGC': 'S', 'AGA': 'R', 'AGG': 'R',\n",
    "        'GGU': 'G', 'GGC': 'G', 'GGA': 'G', 'GGG': 'G'\n",
    "    }\n",
    "\n",
    "    # Translate RNA to amino acids\n",
    "    amino_acids = [codon_table[rna_str[i:i+3]] for i in range(0, len(rna_str), 3) if i+3 <= len(rna_str)]\n",
    "    \n",
    "    return ''.join(amino_acids)\n",
    "\n",
    "def count_occurrences(dna_str):\n",
    "    # Transcribe DNA to RNA\n",
    "    rna_str = transcribe(dna_str)\n",
    "\n",
    "    # Translate RNA to amino acids\n",
    "    amino_acid_str = translate(rna_str)\n",
    "\n",
    "    # Count occurrences of \"SYNGE\"\n",
    "    count = amino_acid_str.count('CYCLIC')\n",
    "    \n",
    "    return count\n",
    "\n",
    "print(f\"Number of occurrences of 'CYCLIC': {rna_str}\")"
   ]
  },
  {
   "cell_type": "code",
   "execution_count": null,
   "id": "22a6c773",
   "metadata": {},
   "outputs": [],
   "source": []
  },
  {
   "cell_type": "code",
   "execution_count": null,
   "id": "2547be67",
   "metadata": {},
   "outputs": [],
   "source": []
  },
  {
   "cell_type": "code",
   "execution_count": null,
   "id": "f3cd417e",
   "metadata": {},
   "outputs": [],
   "source": []
  },
  {
   "cell_type": "code",
   "execution_count": 13,
   "id": "30577981",
   "metadata": {},
   "outputs": [
    {
     "name": "stdout",
     "output_type": "stream",
     "text": [
      "Consistent linear peptides: ['A', 'V', 'T', 'C', 'G', 'K', 'Q', 'E', 'A', 'K', 'Q', 'A', 'P', 'V', 'T', 'E', 'T', 'C', 'V', 'K', 'Q', 'R', 'T', 'E', 'M', 'C', 'K', 'Q', 'A', 'V', 'V', 'C', 'P', 'T', 'K', 'Q', 'E', 'V', 'C', 'M', 'T', 'K', 'Q', 'C', 'E', 'A', 'A', 'V', 'A', 'P', 'V', 'T', 'E', 'T', 'C', 'C', 'K', 'Q', 'G', 'K', 'Q', 'E', 'R', 'W', 'P', 'T', 'K', 'Q', 'E', 'A', 'T', 'A', 'T', 'V', 'T', 'C', 'K', 'Q', 'E', 'K', 'Q', 'E', 'M', 'Y', 'A', 'V', 'A', 'V', 'C', 'T', 'K', 'Q', 'G', 'E', 'R', 'K', 'Q', 'A', 'A', 'F', 'V', 'T', 'C', 'K', 'Q', 'K', 'Q', 'E', 'M', 'Y', 'A', 'F']\n"
     ]
    }
   ],
   "source": [
    "def find_consistent_peptides(spectrum):\n",
    "    # Dictionary mapping amino acids to masses\n",
    "    amino_acid_masses = {'G': 57, 'A': 71, 'S': 87, 'P': 97, 'V': 99, 'T': 101,\n",
    "                         'C': 103, 'I': 113, 'L': 113, 'N': 114, 'D': 115, 'K': 128,\n",
    "                         'Q': 128, 'E': 129, 'M': 131, 'H': 137, 'F': 147, 'R': 156,\n",
    "                         'Y': 163, 'W': 186}\n",
    "\n",
    "    consistent_peptides = []\n",
    "\n",
    "    # Iterate through all possible lengths of peptides\n",
    "    for length in range(1, len(spectrum)):\n",
    "        for i in range(len(spectrum) - length + 1):\n",
    "            # Extract the subsequence of the spectrum\n",
    "            sub_spectrum = spectrum[i:i+length]\n",
    "\n",
    "            # Calculate the mass of the subsequence\n",
    "            sub_mass = sum(sub_spectrum)\n",
    "\n",
    "            # Check if the mass is consistent with any linear peptide\n",
    "            for amino_acid, mass in amino_acid_masses.items():\n",
    "                if sub_mass - mass in spectrum:\n",
    "                    consistent_peptides.append(amino_acid)\n",
    "\n",
    "    return consistent_peptides\n",
    "\n",
    "# Given spectrum\n",
    "spectrum = [0, 71, 99, 101, 103, 128, 129, 199, 200, 204, 227, 230, 231, 298, 303, 328, 330, 332, 333]\n",
    "\n",
    "# Find consistent linear peptides\n",
    "consistent_peptides = find_consistent_peptides(spectrum)\n",
    "\n",
    "print(\"Consistent linear peptides:\", consistent_peptides)\n"
   ]
  },
  {
   "cell_type": "code",
   "execution_count": 2,
   "id": "e7bf7d10",
   "metadata": {},
   "outputs": [
    {
     "name": "stdout",
     "output_type": "stream",
     "text": [
      "i: 0, len(consistent): 4\n",
      "101 113 131 71\n",
      "i: 1, len(consistent): 8\n",
      "101-113 101-131 113-101 113-71 131-101 131-71 71-113 71-131\n",
      "i: 2, len(consistent): 8\n",
      "101-113-71 101-131-71 113-101-131 113-71-131 131-101-113 131-71-113 71-113-101 71-131-101\n",
      "i: 3, len(consistent): 8\n",
      "101-113-71-131 101-131-71-113 113-101-131-71 113-71-131-101 131-101-113-71 131-71-113-101 71-113-101-131 71-131-101-113\n",
      "i: 4, len(consistent): 0\n"
     ]
    }
   ],
   "source": [
    "#How many subpeptides does a cyclic peptide of length n have?\n",
    "\n",
    "\n",
    "input = '0 71 101 113 131 184 202 214 232 285 303 315 345 416'\n",
    "with open('Downloads/integer_mass_table.txt') as f:\n",
    "    masses = list(set([int(line.strip().split()[1]) for line in f]))\n",
    "\n",
    "spectrum = [int(i) for i in input.strip().split()]\n",
    "#print spectrum\n",
    "\n",
    "\n",
    "def expand_list(peptides, masses):\n",
    "    if len(peptides) == 0:\n",
    "        return [([m], [0, m]) for m in masses]\n",
    "\n",
    "    def combine_spectrum(peptide, mass):\n",
    "        def extend_spectrum(masses, m):\n",
    "            return masses + [m] + [(sum(peptide[0][i:]) + m)\n",
    "                                   for i in range(len(peptide[0]))]\n",
    "        return (peptide[0]+[mass], extend_spectrum(peptide[1], mass))\n",
    "    return [combine_spectrum(p, m) for p in peptides for m in masses]\n",
    "\n",
    "\n",
    "def is_consistent(linear, spectrum):\n",
    "    for e in linear:\n",
    "        if linear.count(e) > spectrum.count(e):\n",
    "            return False\n",
    "    return True\n",
    "\n",
    "consistent = []\n",
    "\n",
    "for i in range(20):\n",
    "    consistent = [cand for cand in expand_list(consistent, masses)\n",
    "                  if is_consistent(cand[1], spectrum)]\n",
    "    print (\"i: %s, len(consistent): %s\" % (i, len(consistent)))\n",
    "    if len(consistent) == 0:\n",
    "        break\n",
    "    print (*(sorted(['-'.join([str(i) for i in c[0]])\n",
    "                   for c in consistent])), sep = ' ')"
   ]
  },
  {
   "cell_type": "code",
   "execution_count": 4,
   "id": "faee43d9",
   "metadata": {},
   "outputs": [
    {
     "data": {
      "text/plain": [
       "2162761530"
      ]
     },
     "execution_count": 4,
     "metadata": {},
     "output_type": "execute_result"
    }
   ],
   "source": [
    "#How many subpeptides does a cyclic peptide of length n have?\n",
    "\n",
    "from math import factorial\n",
    "\n",
    "def nb_subpeptides(cyclopeptide_length, k=2):\n",
    "    n = cyclopeptide_length\n",
    "    binomial_coeff = factorial(n) / (factorial(k)*factorial(n - k))\n",
    "    return int(k * binomial_coeff)\n",
    "assert 980597910 == nb_subpeptides(31315)\n",
    "nb_subpeptides(46506)"
   ]
  },
  {
   "cell_type": "code",
   "execution_count": 11,
   "id": "6be38afe",
   "metadata": {},
   "outputs": [
    {
     "name": "stdout",
     "output_type": "stream",
     "text": [
      "0 71 87 87 97 103 113 113 113 114 115 131 131 156 163 174 186 200 200 201 202 210 212 234 243 244 244 270 278 299 305 305 314 315 325 331 341 347 349 356 357 357 375 386 412 418 418 434 436 444 445 456 462 464 470 470 488 505 515 527 542 548 549 549 549 557 557 561 577 601 619 619 630 636 646 656 662 664 670 674 674 688 690 704 705 743 749 750 759 761 761 775 787 791 793 801 805 819 820 846 856 862 863 874 874 876 904 906 906 917 918 924 934 960 961 975 979 987 989 993 1005 1019 1019 1021 1030 1031 1037 1075 1076 1090 1092 1106 1106 1110 1116 1118 1124 1134 1144 1150 1161 1161 1179 1203 1219 1223 1223 1231 1231 1231 1232 1238 1253 1265 1275 1292 1310 1310 1316 1318 1324 1335 1336 1344 1346 1362 1362 1368 1394 1405 1423 1423 1424 1431 1433 1439 1449 1455 1465 1466 1475 1475 1481 1502 1510 1536 1536 1537 1546 1568 1570 1578 1579 1580 1580 1594 1606 1617 1624 1649 1649 1665 1666 1667 1667 1667 1677 1683 1693 1693 1709 1780\n"
     ]
    }
   ],
   "source": [
    "\n",
    "from collections import deque\n",
    "\n",
    "def generate_theoretical_spectrum(cyclic_peptide, integer_masses=INTEGER_MASSES):\n",
    "    peptide = deque(cyclic_peptide)\n",
    "    counter = 0\n",
    "    masses = [('', 0)]\n",
    "    while counter < len(peptide):\n",
    "        amino_acid = ''\n",
    "        mass = 0\n",
    "        peptide_ = list(peptide)\n",
    "        for letter in peptide_[:-1]:\n",
    "            amino_acid += letter\n",
    "            mass += integer_masses[letter]\n",
    "            masses.append((amino_acid, mass))\n",
    "        counter += 1\n",
    "        peptide.rotate()\n",
    "    last_letter = peptide_[-1]\n",
    "    masses.append((amino_acid + last_letter, mass + integer_masses[last_letter]))\n",
    "    return masses\n",
    "def display_masses(spectrum):\n",
    "    return ' '.join(map(str, sorted([m for (aa,m) in spectrum])))\n",
    "sample_input = 'LEQN'\n",
    "sample_output = '0 113 114 128 129 227 242 242 257 355 356 370 371 484'\n",
    "sample_spectrum = generate_theoretical_spectrum(sample_input)\n",
    "assert sample_output == display_masses(sample_spectrum)\n",
    "extra_input = 'IAQMLFYCKVATN'\n",
    "extra_output = '0 71 71 99 101 103 113 113 114 128 128 131 147 163 170 172 184 199 215 227 227 231 244 259 260 266 271 286 298 298 310 312 328 330 330 372 385 391 394 399 399 399 401 413 423 426 443 443 470 493 498 502 513 519 526 527 541 554 556 557 564 569 590 598 616 626 640 654 657 658 665 670 682 697 697 703 711 729 729 753 753 771 779 785 785 800 812 817 824 825 828 842 856 866 884 892 913 918 925 926 928 941 955 956 963 969 980 984 989 1012 1039 1039 1056 1059 1069 1081 1083 1083 1083 1088 1091 1097 1110 1152 1152 1154 1170 1172 1184 1184 1196 1211 1216 1222 1223 1238 1251 1255 1255 1267 1283 1298 1310 1312 1319 1335 1351 1354 1354 1368 1369 1369 1379 1381 1383 1411 1411 1482'\n",
    "extra_spectrum = generate_theoretical_spectrum(extra_input)\n",
    "assert extra_output == display_masses(extra_spectrum)\n",
    "test_peptide = 'ACMLSNRSIWYDPLM'\n",
    "test_spectrum = generate_theoretical_spectrum(test_peptide)\n",
    "# 'data/dataset_98_4.txt'\n",
    "print(display_masses(test_spectrum))"
   ]
  },
  {
   "cell_type": "code",
   "execution_count": 2,
   "id": "cde1ee1d",
   "metadata": {},
   "outputs": [],
   "source": [
    "from typing import List, Dict\n",
    "\n",
    "\n",
    "with open('Downloads/integer_mass_table.txt', 'r') as reference_file:\n",
    "    masses = [line.strip().split(' ') for line in reference_file.readlines()]\n",
    "\n",
    "INTEGER_MASSES = {mass[0]: int(mass[1]) for mass in masses}\n",
    "RESTRICTED_MASSES = {aa: mass for aa, mass in INTEGER_MASSES.items() if aa not in ['I', 'K']}\n",
    "\n",
    "    \n",
    "def parse_spectrum(spectrum: str) -> List[int]:\n",
    "    return list(map(int, spectrum.split(' ')))\n",
    "\n",
    "\n",
    "def display_spectrum(peptide: str, integer_masses: Dict[str, int] = INTEGER_MASSES) -> str:\n",
    "    return '-'.join([str(integer_masses[aa]) for aa in peptide])"
   ]
  },
  {
   "cell_type": "code",
   "execution_count": null,
   "id": "feba8090",
   "metadata": {},
   "outputs": [],
   "source": []
  },
  {
   "cell_type": "code",
   "execution_count": 7,
   "id": "4c5773c7",
   "metadata": {},
   "outputs": [
    {
     "name": "stdout",
     "output_type": "stream",
     "text": [
      "Object `utils` not found.\n"
     ]
    }
   ],
   "source": [
    "utils?"
   ]
  },
  {
   "cell_type": "code",
   "execution_count": null,
   "id": "591714e4",
   "metadata": {},
   "outputs": [],
   "source": [
    "#counting peptides with given mass problem\n",
    "from collections import defaultdict\n",
    "\n",
    "def nb_linear_peptides(parent_mass):\n",
    "    masses = set(INTEGER_MASSES.values())\n",
    "    to_expand = [(0, [])]\n",
    "    win_counts = defaultdict(int)\n",
    "    nb_wins = 0\n",
    "    losers = set()\n",
    "    winners = set()\n",
    "    while to_expand:\n",
    "        current, history = to_expand.pop()\n",
    "        if current in winners:\n",
    "            nb_wins += 1\n",
    "            continue\n",
    "        for mass in masses:\n",
    "            new = current + mass\n",
    "            if new in losers:\n",
    "                continue\n",
    "            if new in winners:\n",
    "                nb_wins += 1\n",
    "                continue\n",
    "            if new == parent_mass:\n",
    "                nb_wins += 1\n",
    "                winners.update(history + [current])\n",
    "                continue\n",
    "            if new < parent_mass:\n",
    "                to_expand.append((new, history + [current]))\n",
    "                continue\n",
    "            losers.add(new)\n",
    "    return nb_wins  \n",
    "\n",
    "sample_input = 1024\n",
    "print(nb_linear_peptides(sample_input))"
   ]
  },
  {
   "cell_type": "code",
   "execution_count": null,
   "id": "860a81d6",
   "metadata": {},
   "outputs": [],
   "source": []
  },
  {
   "cell_type": "code",
   "execution_count": null,
   "id": "4033ea0b",
   "metadata": {},
   "outputs": [],
   "source": []
  },
  {
   "cell_type": "code",
   "execution_count": null,
   "id": "05391c7a",
   "metadata": {},
   "outputs": [],
   "source": []
  },
  {
   "cell_type": "code",
   "execution_count": null,
   "id": "d262a0da",
   "metadata": {},
   "outputs": [],
   "source": []
  },
  {
   "cell_type": "code",
   "execution_count": null,
   "id": "22a4b3d8",
   "metadata": {},
   "outputs": [],
   "source": []
  },
  {
   "cell_type": "code",
   "execution_count": null,
   "id": "3f857991",
   "metadata": {},
   "outputs": [],
   "source": []
  },
  {
   "cell_type": "code",
   "execution_count": null,
   "id": "b0cc7106",
   "metadata": {},
   "outputs": [],
   "source": []
  },
  {
   "cell_type": "code",
   "execution_count": null,
   "id": "52bb84ee",
   "metadata": {},
   "outputs": [],
   "source": []
  }
 ],
 "metadata": {
  "kernelspec": {
   "display_name": "Python 3",
   "language": "python",
   "name": "python3"
  },
  "language_info": {
   "codemirror_mode": {
    "name": "ipython",
    "version": 3
   },
   "file_extension": ".py",
   "mimetype": "text/x-python",
   "name": "python",
   "nbconvert_exporter": "python",
   "pygments_lexer": "ipython3",
   "version": "3.8.8"
  }
 },
 "nbformat": 4,
 "nbformat_minor": 5
}
